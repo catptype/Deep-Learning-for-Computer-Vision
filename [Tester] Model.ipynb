{
 "cells": [
  {
   "cell_type": "code",
   "execution_count": 1,
   "metadata": {},
   "outputs": [],
   "source": [
    "import time\n",
    "import tensorflow as tf\n",
    "import model.GooLeNetModel as GoogleNet\n",
    "import model.DenseNetModel as DenseNet\n",
    "import model.VGGModel as VGG\n",
    "import model.ResnetModel as Resnet\n",
    "import model.Res2NetModel as Res2Net\n",
    "import model.ResNeXtModel as ResNeXt\n",
    "import model.SqueezeNetModel as SqueezeNet\n",
    "from functools import partial"
   ]
  },
  {
   "cell_type": "code",
   "execution_count": 2,
   "metadata": {},
   "outputs": [],
   "source": [
    "# Avoid out of memory errors by setting GPU Memory Consumption Growth\n",
    "gpus = tf.config.experimental.list_physical_devices('GPU')\n",
    "for gpu in gpus: \n",
    "    tf.config.experimental.set_memory_growth(gpu, True)"
   ]
  },
  {
   "cell_type": "code",
   "execution_count": 3,
   "metadata": {},
   "outputs": [],
   "source": [
    "def measure_time(model, input_size, num_classes):\n",
    "    print(f\"Running model {model.func.__name__} ... \", end=\"\")\n",
    "    try:\n",
    "        start_time = time.time()\n",
    "        model(input_size, num_classes)\n",
    "        end_time = time.time()\n",
    "        elapsed_time = end_time - start_time\n",
    "        print(f\"PASS {elapsed_time:.4f} seconds.\")\n",
    "    except Exception as e:\n",
    "        print(f\"FAILED ({e})\")"
   ]
  },
  {
   "cell_type": "code",
   "execution_count": 4,
   "metadata": {},
   "outputs": [
    {
     "name": "stdout",
     "output_type": "stream",
     "text": [
      "Running model Inception_v1 ... PASS 2.4689 seconds.\n",
      "Running model Inception_v1_BN ... PASS 2.3714 seconds.\n",
      "Running model DenseNet121 ... PASS 3.8162 seconds.\n",
      "Running model DenseNet169 ... PASS 6.7175 seconds.\n",
      "Running model DenseNet201 ... PASS 7.5363 seconds.\n",
      "Running model DenseNet264 ... PASS 9.3480 seconds.\n",
      "Running model Resnet18 ... PASS 0.7482 seconds.\n",
      "Running model Resnet34 ... PASS 1.3336 seconds.\n",
      "Running model Resnet50 ... PASS 2.0753 seconds.\n",
      "Running model Resnet101 ... PASS 4.4965 seconds.\n",
      "Running model Resnet152 ... PASS 6.2516 seconds.\n",
      "Running model Res2Net50 ... PASS 3.7156 seconds.\n",
      "Running model Res2Net101 ... PASS 7.2811 seconds.\n",
      "Running model Res2Net152 ... PASS 11.0118 seconds.\n",
      "Running model ResNeXt18 ... PASS 18.9578 seconds.\n",
      "Running model ResNeXt34 ... PASS 34.4772 seconds.\n",
      "Running model ResNeXt50 ... PASS 36.9076 seconds.\n",
      "Running model ResNeXt101 ... PASS 73.4832 seconds.\n",
      "Running model ResNeXt152 ... PASS 106.2620 seconds.\n",
      "Running model CustomVGG ... PASS 0.2844 seconds.\n",
      "Running model VGG11 ... PASS 0.2654 seconds.\n",
      "Running model VGG13 ... PASS 0.2230 seconds.\n",
      "Running model VGG16 ... PASS 0.2616 seconds.\n",
      "Running model VGG19 ... FAILED (OOM when allocating tensor with shape[6422528,4096] and type float on /job:localhost/replica:0/task:0/device:GPU:0 by allocator GPU_0_bfc [Op:RandomUniform])\n",
      "Running model SqueezeNet ... PASS 0.4420 seconds.\n",
      "Running model SqueezeNet_BN ... PASS 0.8065 seconds.\n",
      "Running model SqueezeNet_SimpleSkip ... PASS 0.4457 seconds.\n",
      "Running model SqueezeNet_SimpleSkip_BN ... PASS 0.8295 seconds.\n",
      "Running model SqueezeNet_ComplexSkip ... PASS 0.5374 seconds.\n",
      "Running model SqueezeNet_ComplexSkip_BN ... PASS 1.0365 seconds.\n"
     ]
    }
   ],
   "source": [
    "models_to_measure = [\n",
    "    # Google Net\n",
    "    partial(GoogleNet.Inception_v1),\n",
    "    partial(GoogleNet.Inception_v1_BN),\n",
    "    # Dense Net\n",
    "    partial(DenseNet.DenseNet121),\n",
    "    partial(DenseNet.DenseNet169),\n",
    "    partial(DenseNet.DenseNet201),\n",
    "    partial(DenseNet.DenseNet264),\n",
    "    # Resnet\n",
    "    partial(Resnet.Resnet18),\n",
    "    partial(Resnet.Resnet34),\n",
    "    partial(Resnet.Resnet50),\n",
    "    partial(Resnet.Resnet101),\n",
    "    partial(Resnet.Resnet152),\n",
    "    # Res2Net\n",
    "    partial(Res2Net.Res2Net50),\n",
    "    partial(Res2Net.Res2Net101),\n",
    "    partial(Res2Net.Res2Net152),\n",
    "    # ResNeXt\n",
    "    partial(ResNeXt.ResNeXt18),\n",
    "    partial(ResNeXt.ResNeXt34),\n",
    "    partial(ResNeXt.ResNeXt50),\n",
    "    partial(ResNeXt.ResNeXt101),\n",
    "    partial(ResNeXt.ResNeXt152),\n",
    "    # VGG\n",
    "    partial(VGG.CustomVGG),\n",
    "    partial(VGG.VGG11),\n",
    "    partial(VGG.VGG13),\n",
    "    partial(VGG.VGG16),\n",
    "    partial(VGG.VGG19),\n",
    "    # SqueezeNet\n",
    "    partial(SqueezeNet.SqueezeNet),\n",
    "    partial(SqueezeNet.SqueezeNet_BN),\n",
    "    partial(SqueezeNet.SqueezeNet_SimpleSkip),\n",
    "    partial(SqueezeNet.SqueezeNet_SimpleSkip_BN),\n",
    "    partial(SqueezeNet.SqueezeNet_ComplexSkip),\n",
    "    partial(SqueezeNet.SqueezeNet_ComplexSkip_BN),\n",
    "]\n",
    "\n",
    "for model in models_to_measure:\n",
    "    measure_time(model, 224, 2)"
   ]
  }
 ],
 "metadata": {
  "kernelspec": {
   "display_name": "tf2",
   "language": "python",
   "name": "python3"
  },
  "language_info": {
   "codemirror_mode": {
    "name": "ipython",
    "version": 3
   },
   "file_extension": ".py",
   "mimetype": "text/x-python",
   "name": "python",
   "nbconvert_exporter": "python",
   "pygments_lexer": "ipython3",
   "version": "3.8.12"
  },
  "orig_nbformat": 4
 },
 "nbformat": 4,
 "nbformat_minor": 2
}
