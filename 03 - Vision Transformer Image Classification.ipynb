{
 "cells": [
  {
   "cell_type": "markdown",
   "metadata": {},
   "source": [
    "# Vision Transformer"
   ]
  },
  {
   "cell_type": "code",
   "execution_count": 1,
   "metadata": {},
   "outputs": [],
   "source": [
    "import sys\n",
    "sys.dont_write_bytecode = True\n",
    "\n",
    "import os\n",
    "import tensorflow as tf\n",
    "\n",
    "from evaluate.F1ScoreMetric import F1ScoreMetric as f1\n",
    "from module.DatasetProcessor import DatasetProcessor\n",
    "from script.plot_training_history import plot_training_history"
   ]
  },
  {
   "cell_type": "code",
   "execution_count": 2,
   "metadata": {},
   "outputs": [
    {
     "name": "stdout",
     "output_type": "stream",
     "text": [
      "TensorFlow version: 2.6.0\n",
      "Python version: 3.8.12 (default, Oct 12 2021, 03:01:40) [MSC v.1916 64 bit (AMD64)]\n",
      "Tue Sep 19 16:21:36 2023       \n",
      "+---------------------------------------------------------------------------------------+\n",
      "| NVIDIA-SMI 536.23                 Driver Version: 536.23       CUDA Version: 12.2     |\n",
      "|-----------------------------------------+----------------------+----------------------+\n",
      "| GPU  Name                     TCC/WDDM  | Bus-Id        Disp.A | Volatile Uncorr. ECC |\n",
      "| Fan  Temp   Perf          Pwr:Usage/Cap |         Memory-Usage | GPU-Util  Compute M. |\n",
      "|                                         |                      |               MIG M. |\n",
      "|=========================================+======================+======================|\n",
      "|   0  NVIDIA GeForce RTX 2060      WDDM  | 00000000:01:00.0 Off |                  N/A |\n",
      "| N/A   54C    P0              20W /  80W |    255MiB /  6144MiB |      8%      Default |\n",
      "|                                         |                      |                  N/A |\n",
      "+-----------------------------------------+----------------------+----------------------+\n",
      "                                                                                         \n",
      "+---------------------------------------------------------------------------------------+\n",
      "| Processes:                                                                            |\n",
      "|  GPU   GI   CI        PID   Type   Process name                            GPU Memory |\n",
      "|        ID   ID                                                             Usage      |\n",
      "|=======================================================================================|\n",
      "|    0   N/A  N/A      2352    C+G   ...on\\117.0.2045.31\\msedgewebview2.exe    N/A      |\n",
      "|    0   N/A  N/A      2416    C+G   ...Cloudflare WARP\\Cloudflare WARP.exe    N/A      |\n",
      "|    0   N/A  N/A      8616    C+G   ...2txyewy\\StartMenuExperienceHost.exe    N/A      |\n",
      "|    0   N/A  N/A      8656    C+G   ...nt.CBS_cw5n1h2txyewy\\SearchHost.exe    N/A      |\n",
      "|    0   N/A  N/A     10500    C+G   ...CBS_cw5n1h2txyewy\\TextInputHost.exe    N/A      |\n",
      "|    0   N/A  N/A     11732    C+G   ...Programs\\Microsoft VS Code\\Code.exe    N/A      |\n",
      "+---------------------------------------------------------------------------------------+\n"
     ]
    }
   ],
   "source": [
    "# Display version of TensorFlow and Python\n",
    "print(f\"TensorFlow version: {tf.__version__}\")\n",
    "print(f\"Python version: {sys.version}\")\n",
    "\n",
    "# Display Version of Nvidia Driver and CUDA\n",
    "!nvidia-smi"
   ]
  },
  {
   "cell_type": "markdown",
   "metadata": {},
   "source": [
    "## Configuration"
   ]
  },
  {
   "cell_type": "code",
   "execution_count": 3,
   "metadata": {},
   "outputs": [],
   "source": [
    "CFG = {\n",
    "    \"fp16\": False, # Use mixed precision training (True/False)\n",
    "    \"dataset_dir\": \".\\DATASET\\ILLUST VS MANGA\", \n",
    "    \"image_size\": 224,\n",
    "    \"patch_size\": 32, # Increase patch size from 16 -> 32 for faster computation\n",
    "    \"num_head\": 12,\n",
    "    \"latent_size\": 768,\n",
    "    \"mlp_size\": 3072,\n",
    "    \"trans_layer\": 6,\n",
    "\n",
    "    \"batch\": 32, # Batch size\n",
    "    \"optimizer1\": tf.keras.optimizers.Adam(learning_rate=1e-4), # main training\n",
    "    \"optimizer2\": tf.keras.optimizers.Adam(learning_rate=1e-6, decay=1e-4), # fine-tuning\n",
    "    \"loss_func\": tf.losses.CategoricalCrossentropy(), # Loss function (Categorical Cross-Entropy)\n",
    "}"
   ]
  },
  {
   "cell_type": "markdown",
   "metadata": {},
   "source": [
    "## Initializing"
   ]
  },
  {
   "cell_type": "code",
   "execution_count": 4,
   "metadata": {},
   "outputs": [],
   "source": [
    "if CFG[\"fp16\"]:\n",
    "    print(\"Activating mixed precision float16 ... \")\n",
    "    tf.keras.mixed_precision.set_global_policy(\"mixed_float16\")\n",
    "\n",
    "# Avoid out of memory errors by setting GPU Memory Consumption Growth\n",
    "gpus = tf.config.experimental.list_physical_devices('GPU')\n",
    "for gpu in gpus: \n",
    "    tf.config.experimental.set_memory_growth(gpu, True)"
   ]
  },
  {
   "cell_type": "markdown",
   "metadata": {},
   "source": [
    "## Declare functions"
   ]
  },
  {
   "cell_type": "code",
   "execution_count": 5,
   "metadata": {},
   "outputs": [],
   "source": [
    "def Custom_ImageDataGenerator(image_path, label, image_size):\n",
    "    # Read the image file from the given path\n",
    "    image = tf.io.read_file(image_path)\n",
    "    \n",
    "    # Decode the image into a tensor, disabling animation expansion\n",
    "    image = tf.image.decode_image(image, expand_animations=False)\n",
    "    \n",
    "    # Resize the image to the specified dimensions while preserving aspect ratio and using antialiasing\n",
    "    image = tf.image.resize(image, (image_size, image_size),\n",
    "                            preserve_aspect_ratio=True,\n",
    "                            antialias=True)\n",
    "    \n",
    "    # Resize the image with padding to ensure it has the exact dimensions specified\n",
    "    image = tf.image.resize_with_pad(image, image_size, image_size)\n",
    "    \n",
    "    # Normalize the image pixel values to the range [0, 1] by dividing by 255.0\n",
    "    image = image / 255.0\n",
    "    \n",
    "    return image, label"
   ]
  },
  {
   "cell_type": "code",
   "execution_count": 6,
   "metadata": {},
   "outputs": [],
   "source": [
    "def raw_data_processing(data_list, dict_class, image_size):\n",
    "    # Extract the image file paths from the data_list\n",
    "    path_list = [path for path, _ in data_list]\n",
    "    \n",
    "    # Map class labels to their corresponding dictionary values\n",
    "    label_list = [dict_class[label] for _, label in data_list]\n",
    "    \n",
    "    # Create a list of image size values to be used as a constant size in the dataset\n",
    "    size_list = [image_size] * len(label_list)\n",
    "    \n",
    "    # Create a TensorFlow dataset from the extracted lists\n",
    "    dataset = tf.data.Dataset.from_tensor_slices((path_list, label_list, size_list))\n",
    "    \n",
    "    return dataset"
   ]
  },
  {
   "cell_type": "markdown",
   "metadata": {},
   "source": [
    "## Dataset preparation"
   ]
  },
  {
   "cell_type": "code",
   "execution_count": 7,
   "metadata": {},
   "outputs": [],
   "source": [
    "# Create a list of tuples, where each tuple contains the image path and its class label\n",
    "path_list = [os.path.join(root,image) for root, _, files in os.walk(CFG[\"dataset_dir\"], topdown=True) for image in files]\n",
    "path_list = [(path, path.split('\\\\')[-2]) for path in path_list]"
   ]
  },
  {
   "cell_type": "code",
   "execution_count": 8,
   "metadata": {},
   "outputs": [
    {
     "data": {
      "text/plain": [
       "(['ILLUSTRATION', 'MANGA'],\n",
       " {'ILLUSTRATION': array([1., 0.], dtype=float32),\n",
       "  'MANGA': array([0., 1.], dtype=float32)})"
      ]
     },
     "execution_count": 8,
     "metadata": {},
     "output_type": "execute_result"
    }
   ],
   "source": [
    "# Call custom class module\n",
    "processor = DatasetProcessor(path_list)\n",
    "\n",
    "# Prepare class list and its corresponding dictionary for class-label mapping\n",
    "processor.create_class_dict(mode=\"onehot\")\n",
    "\n",
    "processor.class_list, processor.class_dict"
   ]
  },
  {
   "cell_type": "code",
   "execution_count": 9,
   "metadata": {},
   "outputs": [
    {
     "name": "stdout",
     "output_type": "stream",
     "text": [
      "1873 train data including\n",
      "ILLUSTRATION: 1076\n",
      "MANGA: 797\n",
      "==========\n",
      "209 test data including\n",
      "ILLUSTRATION: 120\n",
      "MANGA: 89\n",
      "==========\n",
      "ILLUSTRATION class has weight: 0.8704\n",
      "MANGA class has weight: 1.1750\n"
     ]
    },
    {
     "data": {
      "text/plain": [
       "(1873, 209)"
      ]
     },
     "execution_count": 9,
     "metadata": {},
     "output_type": "execute_result"
    }
   ],
   "source": [
    "# Split the dataset into training and testing datasets\n",
    "processor.train_test_splitter(test_ratio=10)\n",
    "\n",
    "len(processor.train_data), len(processor.test_data)"
   ]
  },
  {
   "cell_type": "code",
   "execution_count": 10,
   "metadata": {},
   "outputs": [],
   "source": [
    "# Prepare the training dataset\n",
    "train_dataset = raw_data_processing(processor.train_data, processor.class_dict, CFG[\"image_size\"])\n",
    "train_dataset = train_dataset.map(Custom_ImageDataGenerator)\n",
    "train_dataset = train_dataset.cache()\n",
    "train_dataset = train_dataset.shuffle(buffer_size=len(train_dataset))\n",
    "train_dataset = train_dataset.batch(batch_size=CFG[\"batch\"], drop_remainder = True)\n",
    "train_dataset = train_dataset.prefetch(tf.data.AUTOTUNE)\n",
    "\n",
    "# Prepare the testing dataset\n",
    "test_dataset = raw_data_processing(processor.test_data, processor.class_dict, CFG[\"image_size\"])\n",
    "test_dataset = test_dataset.map(Custom_ImageDataGenerator)\n",
    "test_dataset = test_dataset.batch(batch_size=CFG[\"batch\"], drop_remainder = False)\n",
    "test_dataset = test_dataset.prefetch(tf.data.AUTOTUNE)"
   ]
  },
  {
   "cell_type": "markdown",
   "metadata": {},
   "source": [
    "## Model Creation\n",
    "\n",
    "I use the traditional model ViT Base for this study, but I have increased the image patch size from 16 to 32."
   ]
  },
  {
   "cell_type": "code",
   "execution_count": 11,
   "metadata": {},
   "outputs": [
    {
     "name": "stdout",
     "output_type": "stream",
     "text": [
      "Model: \"ViT_I224x224_P32_L12_H12_D768_MLP3072_2Class\"\n",
      "_________________________________________________________________\n",
      "Layer (type)                 Output Shape              Param #   \n",
      "=================================================================\n",
      "Input_image (InputLayer)     [(None, 224, 224, 3)]     0         \n",
      "_________________________________________________________________\n",
      "Image_Patcher (ImagePatcher) (None, 49, 3072)          0         \n",
      "_________________________________________________________________\n",
      "Patch_Encoder (PatchEncoder) (None, 49, 768)           2397696   \n",
      "_________________________________________________________________\n",
      "ClassToken (ClassToken)      (None, 50, 768)           768       \n",
      "_________________________________________________________________\n",
      "Transformer_Encoder_1 (Trans (None, 50, 768)           7087872   \n",
      "_________________________________________________________________\n",
      "Transformer_Encoder_2 (Trans (None, 50, 768)           7087872   \n",
      "_________________________________________________________________\n",
      "Transformer_Encoder_3 (Trans (None, 50, 768)           7087872   \n",
      "_________________________________________________________________\n",
      "Transformer_Encoder_4 (Trans (None, 50, 768)           7087872   \n",
      "_________________________________________________________________\n",
      "Transformer_Encoder_5 (Trans (None, 50, 768)           7087872   \n",
      "_________________________________________________________________\n",
      "Transformer_Encoder_6 (Trans (None, 50, 768)           7087872   \n",
      "_________________________________________________________________\n",
      "Transformer_Encoder_7 (Trans (None, 50, 768)           7087872   \n",
      "_________________________________________________________________\n",
      "Transformer_Encoder_8 (Trans (None, 50, 768)           7087872   \n",
      "_________________________________________________________________\n",
      "Transformer_Encoder_9 (Trans (None, 50, 768)           7087872   \n",
      "_________________________________________________________________\n",
      "Transformer_Encoder_10 (Tran (None, 50, 768)           7087872   \n",
      "_________________________________________________________________\n",
      "Transformer_Encoder_11 (Tran (None, 50, 768)           7087872   \n",
      "_________________________________________________________________\n",
      "Transformer_Encoder_12 (Tran (None, 50, 768)           7087872   \n",
      "_________________________________________________________________\n",
      "layer_normalization (LayerNo (None, 50, 768)           1536      \n",
      "_________________________________________________________________\n",
      "tf.__operators__.getitem (Sl (None, 768)               0         \n",
      "_________________________________________________________________\n",
      "dense (Dense)                (None, 2)                 1538      \n",
      "=================================================================\n",
      "Total params: 87,456,002\n",
      "Trainable params: 87,456,002\n",
      "Non-trainable params: 0\n",
      "_________________________________________________________________\n"
     ]
    }
   ],
   "source": [
    "\"\"\"\n",
    "# They are same\n",
    "from model.VisionTransformer import VisionTransformer as CustomViT\n",
    "model = CustomViT(\n",
    "    image_size=CFG[\"image_size\"],\n",
    "    patch_size=CFG[\"patch_size\"],\n",
    "    num_classes=len(processor.class_list),\n",
    "    num_head=CFG[\"num_head\"],\n",
    "    latent_size=CFG[\"latent_size\"],\n",
    "    num_layer=CFG[\"trans_layer\"],\n",
    "    mlp_size=CFG[\"mlp_size\"]\n",
    ")\n",
    "\"\"\"\n",
    "\n",
    "from model.VisionTransformer import ViTBase\n",
    "\n",
    "model = ViTBase(\n",
    "    image_size=CFG[\"image_size\"],\n",
    "    patch_size=CFG[\"patch_size\"],\n",
    "    num_classes=len(processor.class_list),\n",
    ")\n",
    "\n",
    "model.summary()"
   ]
  },
  {
   "cell_type": "markdown",
   "metadata": {},
   "source": [
    "### Training phase1: Main training"
   ]
  },
  {
   "cell_type": "code",
   "execution_count": 12,
   "metadata": {},
   "outputs": [
    {
     "name": "stdout",
     "output_type": "stream",
     "text": [
      "Epoch 1/1000\n",
      "58/58 [==============================] - 40s 363ms/step - loss: 1.1947 - accuracy: 0.5296 - f1_score: 0.5296 - val_loss: 0.6574 - val_accuracy: 0.5933 - val_f1_score: 0.5933\n",
      "Epoch 2/1000\n",
      "58/58 [==============================] - 19s 328ms/step - loss: 0.7311 - accuracy: 0.5463 - f1_score: 0.5463 - val_loss: 0.7509 - val_accuracy: 0.5742 - val_f1_score: 0.5742\n",
      "Epoch 3/1000\n",
      "58/58 [==============================] - 19s 329ms/step - loss: 0.7496 - accuracy: 0.5264 - f1_score: 0.5264 - val_loss: 0.6501 - val_accuracy: 0.5789 - val_f1_score: 0.5789\n",
      "Epoch 4/1000\n",
      "58/58 [==============================] - 19s 331ms/step - loss: 0.6816 - accuracy: 0.5819 - f1_score: 0.5819 - val_loss: 0.6361 - val_accuracy: 0.6029 - val_f1_score: 0.6029\n",
      "Epoch 5/1000\n",
      "58/58 [==============================] - 19s 331ms/step - loss: 0.6534 - accuracy: 0.6088 - f1_score: 0.6088 - val_loss: 0.6297 - val_accuracy: 0.6507 - val_f1_score: 0.6507\n",
      "Epoch 6/1000\n",
      "58/58 [==============================] - 19s 332ms/step - loss: 0.6739 - accuracy: 0.5884 - f1_score: 0.5884 - val_loss: 0.6627 - val_accuracy: 0.5885 - val_f1_score: 0.5885\n",
      "Epoch 7/1000\n",
      "58/58 [==============================] - 19s 337ms/step - loss: 0.6409 - accuracy: 0.6282 - f1_score: 0.6282 - val_loss: 0.6026 - val_accuracy: 0.6411 - val_f1_score: 0.6411\n",
      "Epoch 8/1000\n",
      "58/58 [==============================] - 20s 341ms/step - loss: 0.6823 - accuracy: 0.6024 - f1_score: 0.6024 - val_loss: 0.6345 - val_accuracy: 0.5742 - val_f1_score: 0.5742\n",
      "Epoch 9/1000\n",
      "58/58 [==============================] - 20s 342ms/step - loss: 0.6284 - accuracy: 0.6067 - f1_score: 0.6067 - val_loss: 0.6392 - val_accuracy: 0.5742 - val_f1_score: 0.5742\n",
      "Epoch 10/1000\n",
      "58/58 [==============================] - 20s 343ms/step - loss: 0.6395 - accuracy: 0.6045 - f1_score: 0.6045 - val_loss: 0.6130 - val_accuracy: 0.6364 - val_f1_score: 0.6364\n",
      "Epoch 11/1000\n",
      "58/58 [==============================] - 20s 339ms/step - loss: 0.6243 - accuracy: 0.6212 - f1_score: 0.6212 - val_loss: 0.6218 - val_accuracy: 0.6124 - val_f1_score: 0.6124\n",
      "Epoch 12/1000\n",
      "58/58 [==============================] - 19s 336ms/step - loss: 0.6262 - accuracy: 0.6347 - f1_score: 0.6347 - val_loss: 0.6123 - val_accuracy: 0.6220 - val_f1_score: 0.6220\n",
      "Epoch 13/1000\n",
      "58/58 [==============================] - 20s 343ms/step - loss: 0.6237 - accuracy: 0.6304 - f1_score: 0.6304 - val_loss: 0.6253 - val_accuracy: 0.6220 - val_f1_score: 0.6220\n",
      "Epoch 14/1000\n",
      "58/58 [==============================] - 20s 346ms/step - loss: 0.6517 - accuracy: 0.6175 - f1_score: 0.6175 - val_loss: 0.6452 - val_accuracy: 0.6124 - val_f1_score: 0.6124\n",
      "Epoch 15/1000\n",
      "58/58 [==============================] - 20s 344ms/step - loss: 0.6022 - accuracy: 0.6487 - f1_score: 0.6487 - val_loss: 0.6116 - val_accuracy: 0.6220 - val_f1_score: 0.6220\n",
      "Epoch 16/1000\n",
      "58/58 [==============================] - 20s 343ms/step - loss: 0.6134 - accuracy: 0.6390 - f1_score: 0.6390 - val_loss: 0.6595 - val_accuracy: 0.5981 - val_f1_score: 0.5981\n",
      "Epoch 17/1000\n",
      "58/58 [==============================] - 20s 348ms/step - loss: 0.6498 - accuracy: 0.6115 - f1_score: 0.6115 - val_loss: 0.6043 - val_accuracy: 0.6603 - val_f1_score: 0.6603\n",
      "Epoch 18/1000\n",
      "58/58 [==============================] - 20s 349ms/step - loss: 0.6021 - accuracy: 0.6487 - f1_score: 0.6487 - val_loss: 0.6307 - val_accuracy: 0.6316 - val_f1_score: 0.6316\n",
      "Epoch 19/1000\n",
      "58/58 [==============================] - 20s 348ms/step - loss: 0.6044 - accuracy: 0.6439 - f1_score: 0.6439 - val_loss: 0.6366 - val_accuracy: 0.6268 - val_f1_score: 0.6268\n",
      "Epoch 20/1000\n",
      "58/58 [==============================] - 20s 350ms/step - loss: 0.5843 - accuracy: 0.6767 - f1_score: 0.6767 - val_loss: 0.6380 - val_accuracy: 0.6507 - val_f1_score: 0.6507\n",
      "Epoch 21/1000\n",
      "58/58 [==============================] - 20s 351ms/step - loss: 0.5865 - accuracy: 0.6703 - f1_score: 0.6703 - val_loss: 0.6064 - val_accuracy: 0.6411 - val_f1_score: 0.6411\n",
      "Epoch 22/1000\n",
      "58/58 [==============================] - 20s 347ms/step - loss: 0.5861 - accuracy: 0.6724 - f1_score: 0.6724 - val_loss: 0.6105 - val_accuracy: 0.6364 - val_f1_score: 0.6364\n",
      "Epoch 23/1000\n",
      "58/58 [==============================] - 20s 348ms/step - loss: 0.5881 - accuracy: 0.6794 - f1_score: 0.6794 - val_loss: 0.5957 - val_accuracy: 0.6459 - val_f1_score: 0.6459\n",
      "Epoch 24/1000\n",
      "58/58 [==============================] - 20s 350ms/step - loss: 0.5850 - accuracy: 0.6681 - f1_score: 0.6681 - val_loss: 0.6162 - val_accuracy: 0.6411 - val_f1_score: 0.6411\n",
      "Epoch 25/1000\n",
      "58/58 [==============================] - 20s 347ms/step - loss: 0.5495 - accuracy: 0.7069 - f1_score: 0.7069 - val_loss: 0.6328 - val_accuracy: 0.6364 - val_f1_score: 0.6364\n",
      "Epoch 26/1000\n",
      "58/58 [==============================] - 20s 347ms/step - loss: 0.5941 - accuracy: 0.6751 - f1_score: 0.6751 - val_loss: 0.6685 - val_accuracy: 0.6364 - val_f1_score: 0.6364\n",
      "Epoch 27/1000\n",
      "58/58 [==============================] - 20s 348ms/step - loss: 0.5337 - accuracy: 0.7301 - f1_score: 0.7301 - val_loss: 0.7585 - val_accuracy: 0.5885 - val_f1_score: 0.5885\n",
      "Restoring model weights from the end of the best epoch.\n",
      "Epoch 00027: early stopping\n"
     ]
    }
   ],
   "source": [
    "# Create an Early Stopping callback that monitors validation loss and stops training if it doesn't improve significantly\n",
    "EarlyStop = tf.keras.callbacks.EarlyStopping(monitor='val_loss', \n",
    "                                                     min_delta=0.01, \n",
    "                                                     patience=20, \n",
    "                                                     restore_best_weights=True, \n",
    "                                                     verbose=1)\n",
    "\n",
    "# Compile the model with the specified optimizer and loss function\n",
    "model.compile(optimizer=CFG[\"optimizer1\"], loss=CFG[\"loss_func\"], metrics=[\"accuracy\", f1()])\n",
    "\n",
    "# Train the model on the training dataset with early stopping and a maximum of 100 epochs\n",
    "model.train(train_dataset, test_dataset, epochs=1000, callbacks=[EarlyStop])"
   ]
  },
  {
   "cell_type": "markdown",
   "metadata": {},
   "source": [
    "### Training phase2: Fine-tuning"
   ]
  },
  {
   "cell_type": "code",
   "execution_count": 13,
   "metadata": {},
   "outputs": [
    {
     "name": "stdout",
     "output_type": "stream",
     "text": [
      "Continuing training from epoch 27\n",
      "Epoch 28/1000\n",
      "58/58 [==============================] - 32s 378ms/step - loss: 0.6066 - accuracy: 0.6466 - f1_score: 0.6466 - val_loss: 0.6019 - val_accuracy: 0.6603 - val_f1_score: 0.6603\n",
      "Epoch 29/1000\n",
      "58/58 [==============================] - 20s 341ms/step - loss: 0.6051 - accuracy: 0.6557 - f1_score: 0.6557 - val_loss: 0.6017 - val_accuracy: 0.6364 - val_f1_score: 0.6364\n",
      "Epoch 30/1000\n",
      "58/58 [==============================] - 20s 340ms/step - loss: 0.6023 - accuracy: 0.6552 - f1_score: 0.6552 - val_loss: 0.6024 - val_accuracy: 0.6364 - val_f1_score: 0.6364\n",
      "Epoch 31/1000\n",
      "58/58 [==============================] - 20s 344ms/step - loss: 0.6023 - accuracy: 0.6579 - f1_score: 0.6579 - val_loss: 0.6054 - val_accuracy: 0.6268 - val_f1_score: 0.6268\n",
      "Epoch 32/1000\n",
      "58/58 [==============================] - 20s 346ms/step - loss: 0.6033 - accuracy: 0.6509 - f1_score: 0.6509 - val_loss: 0.6010 - val_accuracy: 0.6411 - val_f1_score: 0.6411\n",
      "Epoch 33/1000\n",
      "58/58 [==============================] - 20s 346ms/step - loss: 0.6022 - accuracy: 0.6573 - f1_score: 0.6573 - val_loss: 0.6022 - val_accuracy: 0.6316 - val_f1_score: 0.6316\n",
      "Epoch 34/1000\n",
      "58/58 [==============================] - 20s 341ms/step - loss: 0.6015 - accuracy: 0.6536 - f1_score: 0.6536 - val_loss: 0.6027 - val_accuracy: 0.6364 - val_f1_score: 0.6364\n",
      "Epoch 35/1000\n",
      "58/58 [==============================] - 20s 345ms/step - loss: 0.6004 - accuracy: 0.6622 - f1_score: 0.6622 - val_loss: 0.6061 - val_accuracy: 0.6268 - val_f1_score: 0.6268\n",
      "Epoch 36/1000\n",
      "58/58 [==============================] - 20s 347ms/step - loss: 0.6003 - accuracy: 0.6638 - f1_score: 0.6638 - val_loss: 0.6017 - val_accuracy: 0.6364 - val_f1_score: 0.6364\n",
      "Epoch 37/1000\n",
      "58/58 [==============================] - 20s 349ms/step - loss: 0.5979 - accuracy: 0.6584 - f1_score: 0.6584 - val_loss: 0.6028 - val_accuracy: 0.6651 - val_f1_score: 0.6651\n",
      "Epoch 38/1000\n",
      "58/58 [==============================] - 20s 347ms/step - loss: 0.6006 - accuracy: 0.6562 - f1_score: 0.6562 - val_loss: 0.6058 - val_accuracy: 0.6555 - val_f1_score: 0.6555\n",
      "Restoring model weights from the end of the best epoch.\n",
      "Epoch 00038: early stopping\n"
     ]
    }
   ],
   "source": [
    "# Create an Early Stopping callback that monitors validation loss and stops training if it doesn't improve significantly\n",
    "EarlyStop = tf.keras.callbacks.EarlyStopping(monitor='val_loss', \n",
    "                                                     min_delta=0.001, \n",
    "                                                     patience=10, \n",
    "                                                     restore_best_weights=True, \n",
    "                                                     verbose=1)\n",
    "\n",
    "# Compile the model with the specified optimizer and loss function\n",
    "model.compile(optimizer=CFG[\"optimizer2\"], loss=CFG[\"loss_func\"], metrics=[\"accuracy\", f1()])\n",
    "\n",
    "# Train the model on the training dataset with early stopping and a maximum of 100 epochs\n",
    "model.train(train_dataset, test_dataset, epochs=1000, callbacks=[EarlyStop])"
   ]
  },
  {
   "cell_type": "markdown",
   "metadata": {},
   "source": [
    "### Model evaluation by plotting history"
   ]
  },
  {
   "cell_type": "code",
   "execution_count": 14,
   "metadata": {},
   "outputs": [
    {
     "data": {
      "image/png": "[encoded data removed]",
      "text/plain": [
       "<Figure size 1440x432 with 2 Axes>"
      ]
     },
     "metadata": {
      "needs_background": "light"
     },
     "output_type": "display_data"
    }
   ],
   "source": [
    "plot_training_history(model.history)"
   ]
  },
  {
   "cell_type": "markdown",
   "metadata": {},
   "source": [
    "### Export model"
   ]
  },
  {
   "cell_type": "code",
   "execution_count": 15,
   "metadata": {},
   "outputs": [],
   "source": [
    "model.save()"
   ]
  }
 ],
 "metadata": {
  "kernelspec": {
   "display_name": "tf2",
   "language": "python",
   "name": "python3"
  },
  "language_info": {
   "codemirror_mode": {
    "name": "ipython",
    "version": 3
   },
   "file_extension": ".py",
   "mimetype": "text/x-python",
   "name": "python",
   "nbconvert_exporter": "python",
   "pygments_lexer": "ipython3",
   "version": "3.8.12"
  },
  "orig_nbformat": 4
 },
 "nbformat": 4,
 "nbformat_minor": 2
}
