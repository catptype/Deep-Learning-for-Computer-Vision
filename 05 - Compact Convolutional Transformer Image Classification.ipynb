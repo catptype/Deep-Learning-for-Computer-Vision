{
 "cells": [
  {
   "cell_type": "markdown",
   "metadata": {},
   "source": [
    "# Compact Convolutional Transformer (CCT)"
   ]
  },
  {
   "cell_type": "code",
   "execution_count": 1,
   "metadata": {},
   "outputs": [],
   "source": [
    "import sys\n",
    "sys.dont_write_bytecode = True\n",
    "\n",
    "import os\n",
    "import tensorflow as tf\n",
    "\n",
    "from evaluate.F1ScoreMetric import F1ScoreMetric as f1\n",
    "from module.DatasetProcessor import DatasetProcessor\n",
    "from script.plot_training_history import plot_training_history"
   ]
  },
  {
   "cell_type": "code",
   "execution_count": 2,
   "metadata": {},
   "outputs": [
    {
     "name": "stdout",
     "output_type": "stream",
     "text": [
      "TensorFlow version: 2.6.0\n",
      "Python version: 3.8.12 (default, Oct 12 2021, 03:01:40) [MSC v.1916 64 bit (AMD64)]\n",
      "Tue Sep 19 17:38:18 2023       \n",
      "+---------------------------------------------------------------------------------------+\n",
      "| NVIDIA-SMI 536.23                 Driver Version: 536.23       CUDA Version: 12.2     |\n",
      "|-----------------------------------------+----------------------+----------------------+\n",
      "| GPU  Name                     TCC/WDDM  | Bus-Id        Disp.A | Volatile Uncorr. ECC |\n",
      "| Fan  Temp   Perf          Pwr:Usage/Cap |         Memory-Usage | GPU-Util  Compute M. |\n",
      "|                                         |                      |               MIG M. |\n",
      "|=========================================+======================+======================|\n",
      "|   0  NVIDIA GeForce RTX 2060      WDDM  | 00000000:01:00.0 Off |                  N/A |\n",
      "| N/A   57C    P0              20W /  80W |    257MiB /  6144MiB |      6%      Default |\n",
      "|                                         |                      |                  N/A |\n",
      "+-----------------------------------------+----------------------+----------------------+\n",
      "                                                                                         \n",
      "+---------------------------------------------------------------------------------------+\n",
      "| Processes:                                                                            |\n",
      "|  GPU   GI   CI        PID   Type   Process name                            GPU Memory |\n",
      "|        ID   ID                                                             Usage      |\n",
      "|=======================================================================================|\n",
      "|    0   N/A  N/A      2352    C+G   ...on\\117.0.2045.31\\msedgewebview2.exe    N/A      |\n",
      "|    0   N/A  N/A      2416    C+G   ...Cloudflare WARP\\Cloudflare WARP.exe    N/A      |\n",
      "|    0   N/A  N/A      8380    C+G   ...Programs\\Microsoft VS Code\\Code.exe    N/A      |\n",
      "|    0   N/A  N/A      8616    C+G   ...2txyewy\\StartMenuExperienceHost.exe    N/A      |\n",
      "|    0   N/A  N/A      8656    C+G   ...nt.CBS_cw5n1h2txyewy\\SearchHost.exe    N/A      |\n",
      "|    0   N/A  N/A     10500    C+G   ...CBS_cw5n1h2txyewy\\TextInputHost.exe    N/A      |\n",
      "|    0   N/A  N/A     11020    C+G   ...64__8wekyb3d8bbwe\\CalculatorApp.exe    N/A      |\n",
      "+---------------------------------------------------------------------------------------+\n"
     ]
    }
   ],
   "source": [
    "# Display version of TensorFlow and Python\n",
    "print(f\"TensorFlow version: {tf.__version__}\")\n",
    "print(f\"Python version: {sys.version}\")\n",
    "\n",
    "# Display Version of Nvidia Driver and CUDA\n",
    "!nvidia-smi"
   ]
  },
  {
   "cell_type": "markdown",
   "metadata": {},
   "source": [
    "## Configuration"
   ]
  },
  {
   "cell_type": "code",
   "execution_count": 3,
   "metadata": {},
   "outputs": [],
   "source": [
    "CFG = {\n",
    "    \"fp16\": False, # Use mixed precision training (True/False)\n",
    "    \"dataset_dir\": \".\\DATASET\\ILLUST VS MANGA\", \n",
    "    \"image_size\": 224,\n",
    "    \"conv_layer\": [64, 128, 256], # 112, 56, 28,\n",
    "    \"num_head\": 4,\n",
    "    \"latent_size\": 256,\n",
    "    \"trans_layer\": 7,\n",
    "    \"mlp_size\": 512,\n",
    "    \"pos_embed\": False,\n",
    "\n",
    "    \"batch\": 16, # Batch size\n",
    "    \"optimizer1\": tf.keras.optimizers.Adam(learning_rate=1e-4), # main training\n",
    "    \"optimizer2\": tf.keras.optimizers.Adam(learning_rate=1e-6, decay=1e-4), # fine-tuning\n",
    "    \"loss_func\": tf.losses.CategoricalCrossentropy(), # Loss function (Categorical Cross-Entropy)\n",
    "}"
   ]
  },
  {
   "cell_type": "markdown",
   "metadata": {},
   "source": [
    "## Initializing"
   ]
  },
  {
   "cell_type": "code",
   "execution_count": 4,
   "metadata": {},
   "outputs": [],
   "source": [
    "if CFG[\"fp16\"]:\n",
    "    print(\"Activating mixed precision float16 ... \")\n",
    "    tf.keras.mixed_precision.set_global_policy(\"mixed_float16\")\n",
    "\n",
    "# Avoid out of memory errors by setting GPU Memory Consumption Growth\n",
    "gpus = tf.config.experimental.list_physical_devices('GPU')\n",
    "for gpu in gpus: \n",
    "    tf.config.experimental.set_memory_growth(gpu, True)"
   ]
  },
  {
   "cell_type": "markdown",
   "metadata": {},
   "source": [
    "## Declare functions"
   ]
  },
  {
   "cell_type": "code",
   "execution_count": 5,
   "metadata": {},
   "outputs": [],
   "source": [
    "def Custom_ImageDataGenerator(image_path, label, image_size):\n",
    "    # Read the image file from the given path\n",
    "    image = tf.io.read_file(image_path)\n",
    "    \n",
    "    # Decode the image into a tensor, disabling animation expansion\n",
    "    image = tf.image.decode_image(image, expand_animations=False)\n",
    "    \n",
    "    # Resize the image to the specified dimensions while preserving aspect ratio and using antialiasing\n",
    "    image = tf.image.resize(image, (image_size, image_size),\n",
    "                            preserve_aspect_ratio=True,\n",
    "                            antialias=True)\n",
    "    \n",
    "    # Resize the image with padding to ensure it has the exact dimensions specified\n",
    "    image = tf.image.resize_with_pad(image, image_size, image_size)\n",
    "    \n",
    "    # Normalize the image pixel values to the range [0, 1] by dividing by 255.0\n",
    "    image = image / 255.0\n",
    "    \n",
    "    return image, label"
   ]
  },
  {
   "cell_type": "code",
   "execution_count": 6,
   "metadata": {},
   "outputs": [],
   "source": [
    "def raw_data_processing(data_list, dict_class, image_size):\n",
    "    # Extract the image file paths from the data_list\n",
    "    path_list = [path for path, _ in data_list]\n",
    "    \n",
    "    # Map class labels to their corresponding dictionary values\n",
    "    label_list = [dict_class[label] for _, label in data_list]\n",
    "    \n",
    "    # Create a list of image size values to be used as a constant size in the dataset\n",
    "    size_list = [image_size] * len(label_list)\n",
    "    \n",
    "    # Create a TensorFlow dataset from the extracted lists\n",
    "    dataset = tf.data.Dataset.from_tensor_slices((path_list, label_list, size_list))\n",
    "    \n",
    "    return dataset"
   ]
  },
  {
   "cell_type": "markdown",
   "metadata": {},
   "source": [
    "## Dataset preparation"
   ]
  },
  {
   "cell_type": "code",
   "execution_count": 7,
   "metadata": {},
   "outputs": [],
   "source": [
    "# Create a list of tuples, where each tuple contains the image path and its class label\n",
    "path_list = [os.path.join(root,image) for root, _, files in os.walk(CFG[\"dataset_dir\"], topdown=True) for image in files]\n",
    "path_list = [(path, path.split('\\\\')[-2]) for path in path_list]"
   ]
  },
  {
   "cell_type": "code",
   "execution_count": 8,
   "metadata": {},
   "outputs": [
    {
     "data": {
      "text/plain": [
       "(['ILLUSTRATION', 'MANGA'],\n",
       " {'ILLUSTRATION': array([1., 0.], dtype=float32),\n",
       "  'MANGA': array([0., 1.], dtype=float32)})"
      ]
     },
     "execution_count": 8,
     "metadata": {},
     "output_type": "execute_result"
    }
   ],
   "source": [
    "# Call custom class module\n",
    "processor = DatasetProcessor(path_list)\n",
    "\n",
    "# Prepare class list and its corresponding dictionary for class-label mapping\n",
    "processor.create_class_dict(mode=\"onehot\")\n",
    "\n",
    "processor.class_list, processor.class_dict"
   ]
  },
  {
   "cell_type": "code",
   "execution_count": 9,
   "metadata": {},
   "outputs": [
    {
     "name": "stdout",
     "output_type": "stream",
     "text": [
      "1873 train data including\n",
      "ILLUSTRATION: 1076\n",
      "MANGA: 797\n",
      "==========\n",
      "209 test data including\n",
      "ILLUSTRATION: 120\n",
      "MANGA: 89\n",
      "==========\n",
      "ILLUSTRATION class has weight: 0.8704\n",
      "MANGA class has weight: 1.1750\n"
     ]
    },
    {
     "data": {
      "text/plain": [
       "(1873, 209)"
      ]
     },
     "execution_count": 9,
     "metadata": {},
     "output_type": "execute_result"
    }
   ],
   "source": [
    "# Split the dataset into training and testing datasets\n",
    "processor.train_test_splitter(test_ratio=10)\n",
    "\n",
    "len(processor.train_data), len(processor.test_data)"
   ]
  },
  {
   "cell_type": "code",
   "execution_count": 10,
   "metadata": {},
   "outputs": [],
   "source": [
    "# Prepare the training dataset\n",
    "train_dataset = raw_data_processing(processor.train_data, processor.class_dict, CFG[\"image_size\"])\n",
    "train_dataset = train_dataset.map(Custom_ImageDataGenerator)\n",
    "train_dataset = train_dataset.cache()\n",
    "train_dataset = train_dataset.shuffle(buffer_size=len(train_dataset))\n",
    "train_dataset = train_dataset.batch(batch_size=CFG[\"batch\"], drop_remainder = True)\n",
    "train_dataset = train_dataset.prefetch(tf.data.AUTOTUNE)\n",
    "\n",
    "# Prepare the testing dataset\n",
    "test_dataset = raw_data_processing(processor.test_data, processor.class_dict, CFG[\"image_size\"])\n",
    "test_dataset = test_dataset.map(Custom_ImageDataGenerator)\n",
    "test_dataset = test_dataset.batch(batch_size=CFG[\"batch\"], drop_remainder = False)\n",
    "test_dataset = test_dataset.prefetch(tf.data.AUTOTUNE)"
   ]
  },
  {
   "cell_type": "markdown",
   "metadata": {},
   "source": [
    "## Model Creation\n",
    "\n",
    "According to the paper, I follow the setting to CCT7\n",
    "- number of heads = 4\n",
    "- number of transformer layers = 7\n",
    "- latent size = 256\n",
    "- MLP size = 512"
   ]
  },
  {
   "cell_type": "code",
   "execution_count": 11,
   "metadata": {},
   "outputs": [
    {
     "name": "stdout",
     "output_type": "stream",
     "text": [
      "Model: \"CCT_I224x224_Conv64_128_256_L7_H4_D256_MLP512_2Class\"\n",
      "__________________________________________________________________________________________________\n",
      "Layer (type)                    Output Shape         Param #     Connected to                     \n",
      "==================================================================================================\n",
      "Input_image (InputLayer)        [(None, 224, 224, 3) 0                                            \n",
      "__________________________________________________________________________________________________\n",
      "ConvToken (ConvToken)           (None, 784, 256)     370816      Input_image[0][0]                \n",
      "__________________________________________________________________________________________________\n",
      "Transformer_Encoder_1 (Transfor (None, 784, 256)     527104      ConvToken[0][0]                  \n",
      "__________________________________________________________________________________________________\n",
      "Transformer_Encoder_2 (Transfor (None, 784, 256)     527104      Transformer_Encoder_1[0][0]      \n",
      "__________________________________________________________________________________________________\n",
      "Transformer_Encoder_3 (Transfor (None, 784, 256)     527104      Transformer_Encoder_2[0][0]      \n",
      "__________________________________________________________________________________________________\n",
      "Transformer_Encoder_4 (Transfor (None, 784, 256)     527104      Transformer_Encoder_3[0][0]      \n",
      "__________________________________________________________________________________________________\n",
      "Transformer_Encoder_5 (Transfor (None, 784, 256)     527104      Transformer_Encoder_4[0][0]      \n",
      "__________________________________________________________________________________________________\n",
      "Transformer_Encoder_6 (Transfor (None, 784, 256)     527104      Transformer_Encoder_5[0][0]      \n",
      "__________________________________________________________________________________________________\n",
      "Transformer_Encoder_7 (Transfor (None, 784, 256)     527104      Transformer_Encoder_6[0][0]      \n",
      "__________________________________________________________________________________________________\n",
      "dense (Dense)                   (None, 784, 1)       257         Transformer_Encoder_7[0][0]      \n",
      "__________________________________________________________________________________________________\n",
      "tf.linalg.matmul (TFOpLambda)   (None, 1, 256)       0           dense[0][0]                      \n",
      "                                                                 Transformer_Encoder_7[0][0]      \n",
      "__________________________________________________________________________________________________\n",
      "flatten (Flatten)               (None, 256)          0           tf.linalg.matmul[0][0]           \n",
      "__________________________________________________________________________________________________\n",
      "dense_1 (Dense)                 (None, 2)            514         flatten[0][0]                    \n",
      "==================================================================================================\n",
      "Total params: 4,061,315\n",
      "Trainable params: 4,061,315\n",
      "Non-trainable params: 0\n",
      "__________________________________________________________________________________________________\n"
     ]
    }
   ],
   "source": [
    "from model.CompactConvolutionalTransformer import CompactConvolutionalTransformer as CCT\n",
    "\n",
    "model = CCT(\n",
    "    image_size=CFG[\"image_size\"],\n",
    "    conv_layer=CFG[\"conv_layer\"],\n",
    "    num_classes=len(processor.class_list),\n",
    "    num_head=CFG[\"num_head\"],\n",
    "    latent_size=CFG[\"latent_size\"],\n",
    "    num_layer=CFG[\"trans_layer\"],\n",
    "    mlp_size=CFG[\"mlp_size\"],\n",
    "    position_embedding=CFG[\"pos_embed\"],\n",
    ")\n",
    "\n",
    "model.summary()"
   ]
  },
  {
   "cell_type": "markdown",
   "metadata": {},
   "source": [
    "### Training phase1: Main training"
   ]
  },
  {
   "cell_type": "code",
   "execution_count": 12,
   "metadata": {},
   "outputs": [
    {
     "name": "stdout",
     "output_type": "stream",
     "text": [
      "Epoch 1/1000\n",
      "117/117 [==============================] - 68s 399ms/step - loss: 354.1016 - accuracy: 0.5662 - f1_score: 0.5662 - val_loss: 225.8138 - val_accuracy: 0.5837 - val_f1_score: 0.5837\n",
      "Epoch 2/1000\n",
      "117/117 [==============================] - 48s 409ms/step - loss: 140.1271 - accuracy: 0.6186 - f1_score: 0.6186 - val_loss: 36.8160 - val_accuracy: 0.7081 - val_f1_score: 0.7081\n",
      "Epoch 3/1000\n",
      "117/117 [==============================] - 47s 400ms/step - loss: 67.1317 - accuracy: 0.6699 - f1_score: 0.6699 - val_loss: 94.9891 - val_accuracy: 0.6029 - val_f1_score: 0.6029\n",
      "Epoch 4/1000\n",
      "117/117 [==============================] - 46s 395ms/step - loss: 52.5325 - accuracy: 0.6976 - f1_score: 0.6976 - val_loss: 21.5284 - val_accuracy: 0.7560 - val_f1_score: 0.7560\n",
      "Epoch 5/1000\n",
      "117/117 [==============================] - 46s 395ms/step - loss: 35.2858 - accuracy: 0.7260 - f1_score: 0.7260 - val_loss: 14.9122 - val_accuracy: 0.7225 - val_f1_score: 0.7225\n",
      "Epoch 6/1000\n",
      "117/117 [==============================] - 46s 392ms/step - loss: 33.1884 - accuracy: 0.7297 - f1_score: 0.7297 - val_loss: 41.7690 - val_accuracy: 0.6842 - val_f1_score: 0.6842\n",
      "Epoch 7/1000\n",
      "117/117 [==============================] - 46s 395ms/step - loss: 36.5646 - accuracy: 0.7228 - f1_score: 0.7228 - val_loss: 17.8038 - val_accuracy: 0.7416 - val_f1_score: 0.7416\n",
      "Epoch 8/1000\n",
      "117/117 [==============================] - 47s 398ms/step - loss: 46.5646 - accuracy: 0.7073 - f1_score: 0.7073 - val_loss: 53.0437 - val_accuracy: 0.6938 - val_f1_score: 0.6938\n",
      "Epoch 9/1000\n",
      "117/117 [==============================] - 46s 397ms/step - loss: 31.9832 - accuracy: 0.7575 - f1_score: 0.7575 - val_loss: 14.3297 - val_accuracy: 0.7799 - val_f1_score: 0.7799\n",
      "Epoch 10/1000\n",
      "117/117 [==============================] - 47s 398ms/step - loss: 33.2845 - accuracy: 0.7500 - f1_score: 0.7500 - val_loss: 61.4144 - val_accuracy: 0.6651 - val_f1_score: 0.6651\n",
      "Epoch 11/1000\n",
      "117/117 [==============================] - 47s 400ms/step - loss: 26.5994 - accuracy: 0.7644 - f1_score: 0.7644 - val_loss: 10.9727 - val_accuracy: 0.8086 - val_f1_score: 0.8086\n",
      "Epoch 12/1000\n",
      "117/117 [==============================] - 47s 400ms/step - loss: 13.4563 - accuracy: 0.8168 - f1_score: 0.8168 - val_loss: 17.6064 - val_accuracy: 0.7416 - val_f1_score: 0.7416\n",
      "Epoch 13/1000\n",
      "117/117 [==============================] - 47s 404ms/step - loss: 14.7901 - accuracy: 0.7949 - f1_score: 0.7949 - val_loss: 30.0965 - val_accuracy: 0.7273 - val_f1_score: 0.7273\n",
      "Epoch 14/1000\n",
      "117/117 [==============================] - 46s 397ms/step - loss: 22.5577 - accuracy: 0.7927 - f1_score: 0.7927 - val_loss: 9.9992 - val_accuracy: 0.8517 - val_f1_score: 0.8517\n",
      "Epoch 15/1000\n",
      "117/117 [==============================] - 47s 399ms/step - loss: 16.6001 - accuracy: 0.8120 - f1_score: 0.8120 - val_loss: 60.8546 - val_accuracy: 0.6842 - val_f1_score: 0.6842\n",
      "Epoch 16/1000\n",
      "117/117 [==============================] - 47s 402ms/step - loss: 12.3550 - accuracy: 0.8339 - f1_score: 0.8339 - val_loss: 34.0378 - val_accuracy: 0.7177 - val_f1_score: 0.7177\n",
      "Epoch 17/1000\n",
      "117/117 [==============================] - 47s 405ms/step - loss: 13.7705 - accuracy: 0.8264 - f1_score: 0.8264 - val_loss: 8.5375 - val_accuracy: 0.8708 - val_f1_score: 0.8708\n",
      "Epoch 18/1000\n",
      "117/117 [==============================] - 47s 402ms/step - loss: 15.4258 - accuracy: 0.8253 - f1_score: 0.8253 - val_loss: 23.9820 - val_accuracy: 0.7464 - val_f1_score: 0.7464\n",
      "Epoch 19/1000\n",
      "117/117 [==============================] - 47s 404ms/step - loss: 23.3244 - accuracy: 0.7927 - f1_score: 0.7927 - val_loss: 29.9742 - val_accuracy: 0.6890 - val_f1_score: 0.6890\n",
      "Epoch 20/1000\n",
      "117/117 [==============================] - 47s 403ms/step - loss: 10.2788 - accuracy: 0.8531 - f1_score: 0.8531 - val_loss: 13.8815 - val_accuracy: 0.7847 - val_f1_score: 0.7847\n",
      "Epoch 21/1000\n",
      "117/117 [==============================] - 47s 403ms/step - loss: 16.4854 - accuracy: 0.8194 - f1_score: 0.8194 - val_loss: 17.6716 - val_accuracy: 0.8182 - val_f1_score: 0.8182\n",
      "Epoch 22/1000\n",
      "117/117 [==============================] - 46s 397ms/step - loss: 19.0728 - accuracy: 0.8130 - f1_score: 0.8130 - val_loss: 30.9692 - val_accuracy: 0.7703 - val_f1_score: 0.7703\n",
      "Epoch 23/1000\n",
      "117/117 [==============================] - 47s 402ms/step - loss: 19.1935 - accuracy: 0.8259 - f1_score: 0.8259 - val_loss: 81.3125 - val_accuracy: 0.6364 - val_f1_score: 0.6364\n",
      "Epoch 24/1000\n",
      "117/117 [==============================] - 47s 403ms/step - loss: 20.5799 - accuracy: 0.8221 - f1_score: 0.8221 - val_loss: 66.1023 - val_accuracy: 0.6746 - val_f1_score: 0.6746\n",
      "Epoch 25/1000\n",
      "117/117 [==============================] - 47s 405ms/step - loss: 11.1357 - accuracy: 0.8766 - f1_score: 0.8766 - val_loss: 15.3033 - val_accuracy: 0.7368 - val_f1_score: 0.7368\n",
      "Epoch 26/1000\n",
      "117/117 [==============================] - 47s 405ms/step - loss: 10.3703 - accuracy: 0.8681 - f1_score: 0.8681 - val_loss: 9.7339 - val_accuracy: 0.8708 - val_f1_score: 0.8708\n",
      "Epoch 27/1000\n",
      "117/117 [==============================] - 47s 402ms/step - loss: 10.5376 - accuracy: 0.8707 - f1_score: 0.8707 - val_loss: 17.0547 - val_accuracy: 0.8086 - val_f1_score: 0.8086\n",
      "Epoch 28/1000\n",
      "117/117 [==============================] - 47s 403ms/step - loss: 15.8512 - accuracy: 0.8456 - f1_score: 0.8456 - val_loss: 12.3917 - val_accuracy: 0.8852 - val_f1_score: 0.8852\n",
      "Epoch 29/1000\n",
      "117/117 [==============================] - 47s 403ms/step - loss: 6.9908 - accuracy: 0.8964 - f1_score: 0.8964 - val_loss: 15.6054 - val_accuracy: 0.7895 - val_f1_score: 0.7895\n",
      "Epoch 30/1000\n",
      "117/117 [==============================] - 47s 400ms/step - loss: 11.6249 - accuracy: 0.8718 - f1_score: 0.8718 - val_loss: 7.9914 - val_accuracy: 0.8469 - val_f1_score: 0.8469\n",
      "Epoch 31/1000\n",
      "117/117 [==============================] - 47s 400ms/step - loss: 5.6190 - accuracy: 0.9087 - f1_score: 0.9087 - val_loss: 10.7552 - val_accuracy: 0.8421 - val_f1_score: 0.8421\n",
      "Epoch 32/1000\n",
      "117/117 [==============================] - 47s 403ms/step - loss: 11.5947 - accuracy: 0.8750 - f1_score: 0.8750 - val_loss: 103.2464 - val_accuracy: 0.6316 - val_f1_score: 0.6316\n",
      "Epoch 33/1000\n",
      "117/117 [==============================] - 46s 395ms/step - loss: 11.1470 - accuracy: 0.8782 - f1_score: 0.8782 - val_loss: 11.0328 - val_accuracy: 0.9234 - val_f1_score: 0.9234\n",
      "Epoch 34/1000\n",
      "117/117 [==============================] - 47s 399ms/step - loss: 6.0293 - accuracy: 0.9209 - f1_score: 0.9209 - val_loss: 4.6146 - val_accuracy: 0.9282 - val_f1_score: 0.9282\n",
      "Epoch 35/1000\n",
      "117/117 [==============================] - 47s 398ms/step - loss: 5.8797 - accuracy: 0.9204 - f1_score: 0.9204 - val_loss: 6.5723 - val_accuracy: 0.8756 - val_f1_score: 0.8756\n",
      "Epoch 36/1000\n",
      "117/117 [==============================] - 46s 397ms/step - loss: 7.5264 - accuracy: 0.9076 - f1_score: 0.9076 - val_loss: 20.2299 - val_accuracy: 0.8469 - val_f1_score: 0.8469\n",
      "Epoch 37/1000\n",
      "117/117 [==============================] - 47s 400ms/step - loss: 6.9315 - accuracy: 0.9092 - f1_score: 0.9092 - val_loss: 11.9843 - val_accuracy: 0.8182 - val_f1_score: 0.8182\n",
      "Epoch 38/1000\n",
      "117/117 [==============================] - 46s 397ms/step - loss: 11.2492 - accuracy: 0.8841 - f1_score: 0.8841 - val_loss: 7.9929 - val_accuracy: 0.9330 - val_f1_score: 0.9330\n",
      "Epoch 39/1000\n",
      "117/117 [==============================] - 46s 397ms/step - loss: 5.5221 - accuracy: 0.9279 - f1_score: 0.9279 - val_loss: 6.9230 - val_accuracy: 0.8804 - val_f1_score: 0.8804\n",
      "Epoch 40/1000\n",
      "117/117 [==============================] - 46s 396ms/step - loss: 15.3120 - accuracy: 0.8809 - f1_score: 0.8809 - val_loss: 15.1742 - val_accuracy: 0.7751 - val_f1_score: 0.7751\n",
      "Epoch 41/1000\n",
      "117/117 [==============================] - 47s 399ms/step - loss: 21.4000 - accuracy: 0.8670 - f1_score: 0.8670 - val_loss: 18.3740 - val_accuracy: 0.8947 - val_f1_score: 0.8947\n",
      "Epoch 42/1000\n",
      "117/117 [==============================] - 46s 397ms/step - loss: 8.7483 - accuracy: 0.9209 - f1_score: 0.9209 - val_loss: 8.8177 - val_accuracy: 0.8995 - val_f1_score: 0.8995\n",
      "Epoch 43/1000\n",
      "117/117 [==============================] - 46s 397ms/step - loss: 2.7861 - accuracy: 0.9525 - f1_score: 0.9525 - val_loss: 8.4856 - val_accuracy: 0.8660 - val_f1_score: 0.8660\n",
      "Epoch 44/1000\n",
      "117/117 [==============================] - 47s 398ms/step - loss: 6.7411 - accuracy: 0.9316 - f1_score: 0.9316 - val_loss: 16.8282 - val_accuracy: 0.8804 - val_f1_score: 0.8804\n",
      "Epoch 45/1000\n",
      "117/117 [==============================] - 46s 397ms/step - loss: 5.8881 - accuracy: 0.9343 - f1_score: 0.9343 - val_loss: 5.7330 - val_accuracy: 0.9330 - val_f1_score: 0.9330\n",
      "Epoch 46/1000\n",
      "117/117 [==============================] - 46s 397ms/step - loss: 12.9235 - accuracy: 0.9033 - f1_score: 0.9033 - val_loss: 18.6853 - val_accuracy: 0.7847 - val_f1_score: 0.7847\n",
      "Epoch 47/1000\n",
      "117/117 [==============================] - 47s 398ms/step - loss: 5.0128 - accuracy: 0.9375 - f1_score: 0.9375 - val_loss: 17.2211 - val_accuracy: 0.8660 - val_f1_score: 0.8660\n",
      "Epoch 48/1000\n",
      "117/117 [==============================] - 47s 398ms/step - loss: 4.0978 - accuracy: 0.9535 - f1_score: 0.9535 - val_loss: 17.5684 - val_accuracy: 0.7656 - val_f1_score: 0.7656\n",
      "Epoch 49/1000\n",
      "117/117 [==============================] - 46s 398ms/step - loss: 4.1559 - accuracy: 0.9476 - f1_score: 0.9476 - val_loss: 6.0005 - val_accuracy: 0.9234 - val_f1_score: 0.9234\n",
      "Epoch 50/1000\n",
      "117/117 [==============================] - 46s 396ms/step - loss: 4.3422 - accuracy: 0.9466 - f1_score: 0.9466 - val_loss: 10.5312 - val_accuracy: 0.9330 - val_f1_score: 0.9330\n",
      "Epoch 51/1000\n",
      "117/117 [==============================] - 46s 397ms/step - loss: 4.5832 - accuracy: 0.9396 - f1_score: 0.9396 - val_loss: 5.7704 - val_accuracy: 0.9426 - val_f1_score: 0.9426\n",
      "Epoch 52/1000\n",
      "117/117 [==============================] - 47s 398ms/step - loss: 9.7020 - accuracy: 0.9279 - f1_score: 0.9279 - val_loss: 13.7609 - val_accuracy: 0.9187 - val_f1_score: 0.9187\n",
      "Epoch 53/1000\n",
      "117/117 [==============================] - 46s 397ms/step - loss: 6.2699 - accuracy: 0.9402 - f1_score: 0.9402 - val_loss: 9.6167 - val_accuracy: 0.9426 - val_f1_score: 0.9426\n",
      "Epoch 54/1000\n",
      "117/117 [==============================] - 46s 397ms/step - loss: 7.3109 - accuracy: 0.9380 - f1_score: 0.9380 - val_loss: 11.9378 - val_accuracy: 0.9378 - val_f1_score: 0.9378\n",
      "Restoring model weights from the end of the best epoch.\n",
      "Epoch 00054: early stopping\n"
     ]
    }
   ],
   "source": [
    "# Create an Early Stopping callback that monitors validation loss and stops training if it doesn't improve significantly\n",
    "EarlyStop = tf.keras.callbacks.EarlyStopping(monitor='val_loss', \n",
    "                                                     min_delta=0.01, \n",
    "                                                     patience=20, \n",
    "                                                     restore_best_weights=True, \n",
    "                                                     verbose=1)\n",
    "\n",
    "# Compile the model with the specified optimizer and loss function\n",
    "model.compile(optimizer=CFG[\"optimizer1\"], loss=CFG[\"loss_func\"], metrics=[\"accuracy\", f1()])\n",
    "\n",
    "# Train the model on the training dataset with early stopping and a maximum of 100 epochs\n",
    "model.train(train_dataset, test_dataset, epochs=1000, callbacks=[EarlyStop])"
   ]
  },
  {
   "cell_type": "markdown",
   "metadata": {},
   "source": [
    "### Training phase2: Fine-tuning"
   ]
  },
  {
   "cell_type": "code",
   "execution_count": 13,
   "metadata": {},
   "outputs": [
    {
     "name": "stdout",
     "output_type": "stream",
     "text": [
      "Continuing training from epoch 54\n",
      "Epoch 55/1000\n",
      "117/117 [==============================] - 54s 407ms/step - loss: 1.6540 - accuracy: 0.9631 - f1_score: 0.9631 - val_loss: 4.0026 - val_accuracy: 0.9378 - val_f1_score: 0.9378\n",
      "Epoch 56/1000\n",
      "117/117 [==============================] - 47s 400ms/step - loss: 1.1888 - accuracy: 0.9663 - f1_score: 0.9663 - val_loss: 4.3483 - val_accuracy: 0.9282 - val_f1_score: 0.9282\n",
      "Epoch 57/1000\n",
      "117/117 [==============================] - 47s 403ms/step - loss: 0.9111 - accuracy: 0.9717 - f1_score: 0.9717 - val_loss: 3.9770 - val_accuracy: 0.9091 - val_f1_score: 0.9091\n",
      "Epoch 58/1000\n",
      "117/117 [==============================] - 46s 396ms/step - loss: 0.8376 - accuracy: 0.9717 - f1_score: 0.9717 - val_loss: 4.5535 - val_accuracy: 0.9330 - val_f1_score: 0.9330\n",
      "Epoch 59/1000\n",
      "117/117 [==============================] - 46s 397ms/step - loss: 0.7653 - accuracy: 0.9696 - f1_score: 0.9696 - val_loss: 4.0673 - val_accuracy: 0.9139 - val_f1_score: 0.9139\n",
      "Epoch 60/1000\n",
      "117/117 [==============================] - 47s 400ms/step - loss: 0.6759 - accuracy: 0.9749 - f1_score: 0.9749 - val_loss: 3.8856 - val_accuracy: 0.9139 - val_f1_score: 0.9139\n",
      "Epoch 61/1000\n",
      "117/117 [==============================] - 47s 401ms/step - loss: 0.5966 - accuracy: 0.9738 - f1_score: 0.9738 - val_loss: 4.0574 - val_accuracy: 0.9187 - val_f1_score: 0.9187\n",
      "Epoch 62/1000\n",
      "117/117 [==============================] - 47s 402ms/step - loss: 0.5464 - accuracy: 0.9728 - f1_score: 0.9728 - val_loss: 3.6799 - val_accuracy: 0.9139 - val_f1_score: 0.9139\n",
      "Epoch 63/1000\n",
      "117/117 [==============================] - 46s 397ms/step - loss: 0.4803 - accuracy: 0.9765 - f1_score: 0.9765 - val_loss: 4.4599 - val_accuracy: 0.9091 - val_f1_score: 0.9091\n",
      "Epoch 64/1000\n",
      "117/117 [==============================] - 47s 398ms/step - loss: 0.5129 - accuracy: 0.9760 - f1_score: 0.9760 - val_loss: 3.9129 - val_accuracy: 0.9139 - val_f1_score: 0.9139\n",
      "Epoch 65/1000\n",
      "117/117 [==============================] - 47s 402ms/step - loss: 0.4769 - accuracy: 0.9770 - f1_score: 0.9770 - val_loss: 3.7085 - val_accuracy: 0.9091 - val_f1_score: 0.9091\n",
      "Epoch 66/1000\n",
      "117/117 [==============================] - 46s 398ms/step - loss: 0.4012 - accuracy: 0.9786 - f1_score: 0.9786 - val_loss: 3.9023 - val_accuracy: 0.9043 - val_f1_score: 0.9043\n",
      "Epoch 67/1000\n",
      "117/117 [==============================] - 46s 397ms/step - loss: 0.3899 - accuracy: 0.9797 - f1_score: 0.9797 - val_loss: 3.7969 - val_accuracy: 0.9187 - val_f1_score: 0.9187\n",
      "Epoch 68/1000\n",
      "117/117 [==============================] - 47s 399ms/step - loss: 0.3451 - accuracy: 0.9797 - f1_score: 0.9797 - val_loss: 3.7005 - val_accuracy: 0.8995 - val_f1_score: 0.8995\n",
      "Epoch 69/1000\n",
      "117/117 [==============================] - 47s 404ms/step - loss: 0.3468 - accuracy: 0.9818 - f1_score: 0.9818 - val_loss: 3.8163 - val_accuracy: 0.9091 - val_f1_score: 0.9091\n",
      "Epoch 70/1000\n",
      "117/117 [==============================] - 46s 397ms/step - loss: 0.2894 - accuracy: 0.9808 - f1_score: 0.9808 - val_loss: 3.7173 - val_accuracy: 0.9187 - val_f1_score: 0.9187\n",
      "Epoch 71/1000\n",
      "117/117 [==============================] - 47s 398ms/step - loss: 0.3403 - accuracy: 0.9802 - f1_score: 0.9802 - val_loss: 4.1388 - val_accuracy: 0.9187 - val_f1_score: 0.9187\n",
      "Epoch 72/1000\n",
      "117/117 [==============================] - 46s 395ms/step - loss: 0.3597 - accuracy: 0.9781 - f1_score: 0.9781 - val_loss: 3.5968 - val_accuracy: 0.9139 - val_f1_score: 0.9139\n",
      "Epoch 73/1000\n",
      "117/117 [==============================] - 46s 393ms/step - loss: 0.2770 - accuracy: 0.9813 - f1_score: 0.9813 - val_loss: 4.1773 - val_accuracy: 0.9187 - val_f1_score: 0.9187\n",
      "Epoch 74/1000\n",
      "117/117 [==============================] - 46s 395ms/step - loss: 0.2987 - accuracy: 0.9808 - f1_score: 0.9808 - val_loss: 3.3715 - val_accuracy: 0.9187 - val_f1_score: 0.9187\n",
      "Epoch 75/1000\n",
      "117/117 [==============================] - 47s 398ms/step - loss: 0.2394 - accuracy: 0.9813 - f1_score: 0.9813 - val_loss: 3.6636 - val_accuracy: 0.9139 - val_f1_score: 0.9139\n",
      "Epoch 76/1000\n",
      "117/117 [==============================] - 46s 395ms/step - loss: 0.2451 - accuracy: 0.9792 - f1_score: 0.9792 - val_loss: 3.5160 - val_accuracy: 0.8995 - val_f1_score: 0.8995\n",
      "Epoch 77/1000\n",
      "117/117 [==============================] - 46s 394ms/step - loss: 0.2314 - accuracy: 0.9813 - f1_score: 0.9813 - val_loss: 3.5612 - val_accuracy: 0.9091 - val_f1_score: 0.9091\n",
      "Epoch 78/1000\n",
      "117/117 [==============================] - 46s 394ms/step - loss: 0.2072 - accuracy: 0.9818 - f1_score: 0.9818 - val_loss: 3.6066 - val_accuracy: 0.9187 - val_f1_score: 0.9187\n",
      "Epoch 79/1000\n",
      "117/117 [==============================] - 46s 396ms/step - loss: 0.1787 - accuracy: 0.9850 - f1_score: 0.9850 - val_loss: 3.5808 - val_accuracy: 0.9187 - val_f1_score: 0.9187\n",
      "Epoch 80/1000\n",
      "117/117 [==============================] - 46s 395ms/step - loss: 0.1750 - accuracy: 0.9845 - f1_score: 0.9845 - val_loss: 3.5637 - val_accuracy: 0.9187 - val_f1_score: 0.9187\n",
      "Epoch 81/1000\n",
      "117/117 [==============================] - 46s 395ms/step - loss: 0.2711 - accuracy: 0.9808 - f1_score: 0.9808 - val_loss: 3.8127 - val_accuracy: 0.9187 - val_f1_score: 0.9187\n",
      "Epoch 82/1000\n",
      "117/117 [==============================] - 46s 395ms/step - loss: 0.2451 - accuracy: 0.9786 - f1_score: 0.9786 - val_loss: 3.6219 - val_accuracy: 0.9187 - val_f1_score: 0.9187\n",
      "Epoch 83/1000\n",
      "117/117 [==============================] - 45s 386ms/step - loss: 0.1460 - accuracy: 0.9861 - f1_score: 0.9861 - val_loss: 3.4589 - val_accuracy: 0.9187 - val_f1_score: 0.9187\n",
      "Epoch 84/1000\n",
      "117/117 [==============================] - 47s 398ms/step - loss: 0.1318 - accuracy: 0.9888 - f1_score: 0.9888 - val_loss: 3.3849 - val_accuracy: 0.8995 - val_f1_score: 0.8995\n",
      "Restoring model weights from the end of the best epoch.\n",
      "Epoch 00084: early stopping\n"
     ]
    }
   ],
   "source": [
    "# Create an Early Stopping callback that monitors validation loss and stops training if it doesn't improve significantly\n",
    "EarlyStop = tf.keras.callbacks.EarlyStopping(monitor='val_loss', \n",
    "                                                     min_delta=0.001, \n",
    "                                                     patience=10, \n",
    "                                                     restore_best_weights=True, \n",
    "                                                     verbose=1)\n",
    "\n",
    "# Compile the model with the specified optimizer and loss function\n",
    "model.compile(optimizer=CFG[\"optimizer2\"], loss=CFG[\"loss_func\"], metrics=[\"accuracy\", f1()])\n",
    "\n",
    "# Train the model on the training dataset with early stopping and a maximum of 100 epochs\n",
    "model.train(train_dataset, test_dataset, epochs=1000, callbacks=[EarlyStop])"
   ]
  },
  {
   "cell_type": "markdown",
   "metadata": {},
   "source": [
    "### Model evaluation by plotting history"
   ]
  },
  {
   "cell_type": "code",
   "execution_count": 14,
   "metadata": {},
   "outputs": [
    {
     "data": {
      "image/png": "[encoded data removed]",
      "text/plain": [
       "<Figure size 1440x432 with 2 Axes>"
      ]
     },
     "metadata": {
      "needs_background": "light"
     },
     "output_type": "display_data"
    }
   ],
   "source": [
    "plot_training_history(model.history)"
   ]
  },
  {
   "cell_type": "markdown",
   "metadata": {},
   "source": [
    "### Export model"
   ]
  },
  {
   "cell_type": "code",
   "execution_count": 15,
   "metadata": {},
   "outputs": [],
   "source": [
    "model.save()"
   ]
  }
 ],
 "metadata": {
  "kernelspec": {
   "display_name": "tf2",
   "language": "python",
   "name": "python3"
  },
  "language_info": {
   "codemirror_mode": {
    "name": "ipython",
    "version": 3
   },
   "file_extension": ".py",
   "mimetype": "text/x-python",
   "name": "python",
   "nbconvert_exporter": "python",
   "pygments_lexer": "ipython3",
   "version": "3.8.12"
  },
  "orig_nbformat": 4
 },
 "nbformat": 4,
 "nbformat_minor": 2
}
