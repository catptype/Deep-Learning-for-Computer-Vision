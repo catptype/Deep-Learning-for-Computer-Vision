{
 "cells": [
  {
   "cell_type": "markdown",
   "metadata": {},
   "source": [
    "# Confusion matrix"
   ]
  },
  {
   "cell_type": "markdown",
   "metadata": {},
   "source": [
    "## Import required Libraries:"
   ]
  },
  {
   "cell_type": "code",
   "execution_count": 1,
   "metadata": {},
   "outputs": [],
   "source": [
    "import os\n",
    "import numpy as np\n",
    "import matplotlib.pyplot as plt\n",
    "import tensorflow as tf\n",
    "import script.ImageProcessing as IP\n",
    "from sklearn.metrics import confusion_matrix, classification_report\n",
    "from tensorflow.keras.models import load_model\n",
    "from concurrent.futures import ThreadPoolExecutor"
   ]
  },
  {
   "cell_type": "code",
   "execution_count": 2,
   "metadata": {},
   "outputs": [],
   "source": [
    "# Avoid out of memory errors by setting GPU Memory Consumption Growth\n",
    "gpus = tf.config.experimental.list_physical_devices('GPU')\n",
    "for gpu in gpus: \n",
    "    tf.config.experimental.set_memory_growth(gpu, True)"
   ]
  },
  {
   "cell_type": "markdown",
   "metadata": {},
   "source": [
    "## Load Your Model and Data:\n",
    "Load your trained model and the data you want to evaluate. Make sure you preprocess the data in the same way you did during training."
   ]
  },
  {
   "cell_type": "code",
   "execution_count": 3,
   "metadata": {},
   "outputs": [],
   "source": [
    "DIR = \"D:\\\\Github Public\\\\DATASET MANAGER\\\\Blue Archive\"\n",
    "datapath_list = [os.path.join(root,image) for root, _, files in os.walk(DIR, topdown=True) for image in files]\n",
    "datapath_list = [path for path in datapath_list if any(ext in path for ext in (\".png\", \".jpg\"))]\n",
    "datapath_list = [path for path in datapath_list if \"TESTING\" not in path]\n",
    "datapath_list = [(path, path.split('\\\\')[-2]) for path in datapath_list]"
   ]
  },
  {
   "cell_type": "code",
   "execution_count": 4,
   "metadata": {},
   "outputs": [],
   "source": [
    "imagepath_list = [path for path, _ in datapath_list]\n",
    "label_list = [label for _, label in datapath_list]\n",
    "\n",
    "class_list = sorted(list(set(label_list)))\n"
   ]
  },
  {
   "cell_type": "code",
   "execution_count": 5,
   "metadata": {},
   "outputs": [
    {
     "name": "stdout",
     "output_type": "stream",
     "text": [
      "INFO:tensorflow:Mixed precision compatibility check (mixed_float16): OK\n",
      "Your GPU will likely run quickly with dtype policy mixed_float16 as it has compute capability of at least 7.0. Your GPU: NVIDIA GeForce RTX 2060, compute capability 7.5\n"
     ]
    }
   ],
   "source": [
    "H5_PATH = './export model/New_Res2Net50SE_224x224_2Class_fp16 (ILLUST VS MANGA).h5'\n",
    "MODEL = load_model(H5_PATH)  # Load your trained Keras model\n",
    "MODEL_NAME = H5_PATH.split('/')[-1].replace('.h5','')\n",
    "IMAGE_SIZE = MODEL.layers[0].input_shape[0][1]\n",
    "PROG_BAR = tf.keras.utils.Progbar(len(imagepath_list), width=20, interval=0.2, unit_name='image')"
   ]
  },
  {
   "cell_type": "markdown",
   "metadata": {},
   "source": [
    "## Generate Predictions:\n",
    "Use your model to predict the classes for the input data."
   ]
  },
  {
   "cell_type": "code",
   "execution_count": 6,
   "metadata": {},
   "outputs": [],
   "source": [
    "def predict(image_path):\n",
    "    image = IP.image_resize_square(image_path, IMAGE_SIZE, aspect_ratio=True, padding=True)\n",
    "    image = np.expand_dims(image.numpy(), axis=0)\n",
    "    PROG_BAR.add(1)\n",
    "    \n",
    "    #progress_bar.update(idx+1)\n",
    "    return MODEL.predict(image)"
   ]
  },
  {
   "cell_type": "code",
   "execution_count": 7,
   "metadata": {},
   "outputs": [
    {
     "name": "stdout",
     "output_type": "stream",
     "text": [
      "4552/4552 [====================] - 463s 101ms/image [=============\n"
     ]
    }
   ],
   "source": [
    "max_threads = os.cpu_count()  # Maximum number of concurrent threads\n",
    "with ThreadPoolExecutor(max_threads) as executor:\n",
    "    predictions_list = list(executor.map(predict, imagepath_list))\n",
    "\n",
    "# Concatenate the results\n",
    "predicted_class = np.concatenate(predictions_list)\n",
    "predicted_class = np.argmax(predicted_class, axis=1)\n",
    "predicted_class = [class_list[idx] for idx in predicted_class]"
   ]
  },
  {
   "cell_type": "markdown",
   "metadata": {},
   "source": [
    "## Calculate the Confusion Matrix:\n",
    "Create the confusion matrix using the true labels and predicted labels."
   ]
  },
  {
   "cell_type": "code",
   "execution_count": 8,
   "metadata": {},
   "outputs": [],
   "source": [
    "# Assuming 'y_test' contains the true labels\n",
    "confusion_mtx = confusion_matrix(label_list, predicted_class)\n",
    "report = classification_report(label_list, predicted_class)\n"
   ]
  },
  {
   "cell_type": "markdown",
   "metadata": {},
   "source": [
    "## Display the Confusion Matrix:\n",
    "You can visualize the confusion matrix using a heatmap for better interpretation."
   ]
  },
  {
   "cell_type": "code",
   "execution_count": 9,
   "metadata": {},
   "outputs": [
    {
     "name": "stdout",
     "output_type": "stream",
     "text": [
      "Classification Report\n",
      "              precision    recall  f1-score   support\n",
      "\n",
      "ILLUSTRATION       0.99      0.99      0.99      3937\n",
      "       MANGA       0.92      0.94      0.93       615\n",
      "\n",
      "    accuracy                           0.98      4552\n",
      "   macro avg       0.96      0.96      0.96      4552\n",
      "weighted avg       0.98      0.98      0.98      4552\n",
      "\n"
     ]
    },
    {
     "data": {
      "image/png": "[encoded data removed]",
      "text/plain": [
       "<Figure size 576x432 with 2 Axes>"
      ]
     },
     "metadata": {
      "needs_background": "light"
     },
     "output_type": "display_data"
    }
   ],
   "source": [
    "print(\"Classification Report\")\n",
    "print(report)\n",
    "\n",
    "# Plotting the confusion matrix as a heatmap\n",
    "fig = plt.figure(figsize=(8,6))\n",
    "plt.imshow(confusion_mtx, interpolation='nearest', cmap=plt.cm.Blues)\n",
    "plt.title(f'Confusion Matrix\\n{MODEL_NAME}\\n', fontsize=16)\n",
    "plt.colorbar()\n",
    "\n",
    "# Adding axis labels\n",
    "plt.xticks(np.arange(len(class_list)), class_list, rotation=0, fontsize=16)\n",
    "plt.yticks(np.arange(len(class_list)), class_list, fontsize=16)\n",
    "\n",
    "# Adding annotations (numbers) in the cells\n",
    "for i in range(len(class_list)):\n",
    "    for j in range(len(class_list)):\n",
    "        plt.text(j, i, str(confusion_mtx[i, j]), \n",
    "                 ha='center', \n",
    "                 va='center', \n",
    "                 backgroundcolor='white',\n",
    "                 color='black',\n",
    "                 fontsize=20,\n",
    "                 fontweight=1000,\n",
    "                 )\n",
    "\n",
    "plt.xlabel('\\nPredicted', fontsize=16)\n",
    "plt.ylabel('Actual', fontsize=16)\n",
    "plt.tight_layout()\n",
    "plt.show()\n",
    "fig.savefig(f'{MODEL_NAME}.jpg')"
   ]
  }
 ],
 "metadata": {
  "kernelspec": {
   "display_name": "tf2",
   "language": "python",
   "name": "python3"
  },
  "language_info": {
   "codemirror_mode": {
    "name": "ipython",
    "version": 3
   },
   "file_extension": ".py",
   "mimetype": "text/x-python",
   "name": "python",
   "nbconvert_exporter": "python",
   "pygments_lexer": "ipython3",
   "version": "3.8.12"
  },
  "orig_nbformat": 4
 },
 "nbformat": 4,
 "nbformat_minor": 2
}
