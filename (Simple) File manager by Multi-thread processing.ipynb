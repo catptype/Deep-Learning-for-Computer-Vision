{
 "cells": [
  {
   "cell_type": "markdown",
   "metadata": {},
   "source": [
    "# File manager by Multi-thread processing"
   ]
  },
  {
   "cell_type": "markdown",
   "metadata": {},
   "source": [
    "## Import necessary libraries:"
   ]
  },
  {
   "cell_type": "code",
   "execution_count": 1,
   "metadata": {},
   "outputs": [],
   "source": [
    "import os\n",
    "import shutil\n",
    "import threading\n",
    "import numpy as np\n",
    "import tensorflow as tf\n",
    "import script.ImageProcessing as IP\n",
    "from tensorflow.keras.models import load_model\n",
    "from concurrent.futures import ThreadPoolExecutor"
   ]
  },
  {
   "cell_type": "code",
   "execution_count": 2,
   "metadata": {},
   "outputs": [],
   "source": [
    "# Avoid out of memory errors by setting GPU Memory Consumption Growth\n",
    "gpus = tf.config.experimental.list_physical_devices('GPU')\n",
    "for gpu in gpus: \n",
    "    tf.config.experimental.set_memory_growth(gpu, True)"
   ]
  },
  {
   "cell_type": "markdown",
   "metadata": {},
   "source": [
    "## Load your trained Keras model:\n",
    "\n",
    "Load the Keras model that you have trained for image classification."
   ]
  },
  {
   "cell_type": "code",
   "execution_count": 3,
   "metadata": {},
   "outputs": [
    {
     "name": "stdout",
     "output_type": "stream",
     "text": [
      "INFO:tensorflow:Mixed precision compatibility check (mixed_float16): OK\n",
      "Your GPU will likely run quickly with dtype policy mixed_float16 as it has compute capability of at least 7.0. Your GPU: NVIDIA GeForce RTX 2060, compute capability 7.5\n"
     ]
    }
   ],
   "source": [
    "MODEL = load_model('.\\export model\\Res2Net50_224x224_2Class_fp16 (ILLUST VS MANGA).h5')  # Load your trained Keras model\n",
    "IMAGE_SIZE = MODEL.layers[0].input_shape[0][1]\n"
   ]
  },
  {
   "cell_type": "markdown",
   "metadata": {},
   "source": [
    "## Define a function to classify images and move them:\n",
    "\n",
    "Create a function that takes an image path as input, classifies it using your Keras model, and then moves the image to the corresponding folder based on the classification result."
   ]
  },
  {
   "cell_type": "code",
   "execution_count": 4,
   "metadata": {},
   "outputs": [],
   "source": [
    "def classify_and_move(image_path, model, image_size):\n",
    "    image = IP.image_resize_square(image_path, image_size, aspect_ratio=True, padding=True)\n",
    "    image = np.expand_dims(image.numpy(), axis=0)\n",
    "    \n",
    "    prediction = model.predict(image)\n",
    "    predicted_class = np.argmax(prediction)\n",
    "\n",
    "    class_name = f\"class_{predicted_class}\"\n",
    "    destination_folder = os.path.join(DIR, class_name)\n",
    "    os.makedirs(destination_folder, exist_ok=True)\n",
    "\n",
    "    image_filename = os.path.basename(image_path)\n",
    "    new_image_path = os.path.join(destination_folder, image_filename)\n",
    "    shutil.move(image_path, new_image_path)"
   ]
  },
  {
   "cell_type": "markdown",
   "metadata": {},
   "source": [
    "## Collect image paths and create threads:\n",
    "\n",
    "Traverse through the directory containing the images you want to classify and organize. For each image, create a thread that will run the classify_and_move function."
   ]
  },
  {
   "cell_type": "code",
   "execution_count": 5,
   "metadata": {},
   "outputs": [],
   "source": [
    "def organize_images(input_folder, model, image_size):\n",
    "    image_paths = [os.path.join(input_folder, filename) for filename in os.listdir(input_folder)]\n",
    "\n",
    "    max_threads = os.cpu_count()  # Maximum number of concurrent threads\n",
    "    with ThreadPoolExecutor(max_threads) as executor:\n",
    "        for image_path in image_paths:\n",
    "            executor.submit(classify_and_move, image_path, model, image_size)\n"
   ]
  },
  {
   "cell_type": "markdown",
   "metadata": {},
   "source": [
    "## Execute"
   ]
  },
  {
   "cell_type": "code",
   "execution_count": 6,
   "metadata": {},
   "outputs": [],
   "source": [
    "DIR = \"Directory\"  # Folder containing unorganized images\n",
    "organize_images(DIR, MODEL, IMAGE_SIZE)"
   ]
  }
 ],
 "metadata": {
  "kernelspec": {
   "display_name": "tf2",
   "language": "python",
   "name": "python3"
  },
  "language_info": {
   "codemirror_mode": {
    "name": "ipython",
    "version": 3
   },
   "file_extension": ".py",
   "mimetype": "text/x-python",
   "name": "python",
   "nbconvert_exporter": "python",
   "pygments_lexer": "ipython3",
   "version": "3.8.12"
  },
  "orig_nbformat": 4
 },
 "nbformat": 4,
 "nbformat_minor": 2
}
