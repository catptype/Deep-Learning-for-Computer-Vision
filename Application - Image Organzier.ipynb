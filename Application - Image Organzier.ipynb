{
 "cells": [
  {
   "cell_type": "markdown",
   "metadata": {},
   "source": [
    "# Image Organizer"
   ]
  },
  {
   "cell_type": "code",
   "execution_count": 2,
   "metadata": {},
   "outputs": [
    {
     "name": "stdout",
     "output_type": "stream",
     "text": [
      "Loading model ... COMPLETE\n",
      "Processing class prediction ...\n",
      "34/34 [====================] - 22s 399ms/batch\n",
      "Moving files ...\n",
      "530/530 [====================] - 0s 375us/image\n"
     ]
    }
   ],
   "source": [
    "%reset -f\n",
    "\n",
    "from module.ImageOrganizer import ImageOrganizer\n",
    "from module.Initializer import Initializer\n",
    "\n",
    "Initializer.memory_growth()\n",
    "\n",
    "CFG = {\n",
    "    \"h5\": \".\\export model\\Res2Net50SE_224x224_2Class (ILLUST VS MANGA).h5\",\n",
    "    \"target_dir\": \"D:\\\\Github Public\\\\DATASET MANAGER\\\\Blue Archive\\\\NEW\",\n",
    "    \"label\": [\"ILLUSTRATION\", \"MANGA\"],\n",
    "    \"batch\": 16,\n",
    "    \"score\": 0.95,\n",
    "}\n",
    "\n",
    "organizer = ImageOrganizer(\n",
    "    h5_file = CFG[\"h5\"], \n",
    "    target_dir = CFG[\"target_dir\"],\n",
    "    batch_size = CFG[\"batch\"],\n",
    "    threshold_score = CFG[\"score\"],\n",
    ")\n",
    "\n",
    "organizer.image_classify(CFG[\"label\"])"
   ]
  }
 ],
 "metadata": {
  "kernelspec": {
   "display_name": "tf2",
   "language": "python",
   "name": "python3"
  },
  "language_info": {
   "codemirror_mode": {
    "name": "ipython",
    "version": 3
   },
   "file_extension": ".py",
   "mimetype": "text/x-python",
   "name": "python",
   "nbconvert_exporter": "python",
   "pygments_lexer": "ipython3",
   "version": "3.8.12"
  }
 },
 "nbformat": 4,
 "nbformat_minor": 2
}
