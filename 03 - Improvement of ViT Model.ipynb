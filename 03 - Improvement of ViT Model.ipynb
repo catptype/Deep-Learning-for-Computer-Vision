{
 "cells": [
  {
   "cell_type": "markdown",
   "metadata": {},
   "source": [
    "# An improvement of Vision Transformer: Compact Convolutional Transformer (CCT)"
   ]
  },
  {
   "cell_type": "markdown",
   "metadata": {},
   "source": [
    "## Introduction\n",
    "\n",
    "In the previous ipynb notebook, I demonstrated image classification using the `Vision Transformer (ViT)` that I created with custom Keras layers. In this ipynb notebook, I have implemented the `Compact Convolutional Transformer (CCT)`, an improvement over the `ViT` model. The `CCT` model employs a `Convolutional Neural Network (CNN)` as a backbone for the tokenizer, in contrast to the use of image patches in the `ViT` model. Additionally, the `CCT` model offers the flexibility of optional positional embedding, presenting an advantage point.\n",
    "\n",
    "For the tokenizer, I've implemented a straightforward CNN structure with `Conv2D -> Maxpooling -> Conv2D -> Maxpooling -> ...` as the backbone.\n",
    "\n",
    "**NOTE** \n",
    "- This ipynb notebook primarily demonstrates the complete coding cycle for creating, training, and evaluating the model."
   ]
  },
  {
   "cell_type": "markdown",
   "metadata": {},
   "source": [
    "## Version"
   ]
  },
  {
   "cell_type": "code",
   "execution_count": 1,
   "metadata": {},
   "outputs": [
    {
     "name": "stdout",
     "output_type": "stream",
     "text": [
      "TensorFlow version: 2.6.0\n",
      "Python version: 3.8.12 (default, Oct 12 2021, 03:01:40) [MSC v.1916 64 bit (AMD64)]\n",
      "Sat Dec 16 14:38:57 2023       \n",
      "+---------------------------------------------------------------------------------------+\n",
      "| NVIDIA-SMI 536.23                 Driver Version: 536.23       CUDA Version: 12.2     |\n",
      "|-----------------------------------------+----------------------+----------------------+\n",
      "| GPU  Name                     TCC/WDDM  | Bus-Id        Disp.A | Volatile Uncorr. ECC |\n",
      "| Fan  Temp   Perf          Pwr:Usage/Cap |         Memory-Usage | GPU-Util  Compute M. |\n",
      "|                                         |                      |               MIG M. |\n",
      "|=========================================+======================+======================|\n",
      "|   0  NVIDIA GeForce RTX 2060      WDDM  | 00000000:01:00.0 Off |                  N/A |\n",
      "| N/A   57C    P0              21W /  80W |    201MiB /  6144MiB |      5%      Default |\n",
      "|                                         |                      |                  N/A |\n",
      "+-----------------------------------------+----------------------+----------------------+\n",
      "                                                                                         \n",
      "+---------------------------------------------------------------------------------------+\n",
      "| Processes:                                                                            |\n",
      "|  GPU   GI   CI        PID   Type   Process name                            GPU Memory |\n",
      "|        ID   ID                                                             Usage      |\n",
      "|=======================================================================================|\n",
      "|    0   N/A  N/A      6676    C+G   ...2txyewy\\StartMenuExperienceHost.exe    N/A      |\n",
      "|    0   N/A  N/A      8400    C+G   ...nt.CBS_cw5n1h2txyewy\\SearchHost.exe    N/A      |\n",
      "|    0   N/A  N/A     10420    C+G   ...CBS_cw5n1h2txyewy\\TextInputHost.exe    N/A      |\n",
      "|    0   N/A  N/A     11300    C+G   ...Programs\\Microsoft VS Code\\Code.exe    N/A      |\n",
      "|    0   N/A  N/A     11908    C+G   ...Cloudflare WARP\\Cloudflare WARP.exe    N/A      |\n",
      "|    0   N/A  N/A     12744    C+G   ...on\\120.0.2210.61\\msedgewebview2.exe    N/A      |\n",
      "+---------------------------------------------------------------------------------------+\n"
     ]
    }
   ],
   "source": [
    "import sys\n",
    "sys.dont_write_bytecode = True\n",
    "\n",
    "from module.utility.Initializer import Initializer\n",
    "\n",
    "Initializer.show_version()\n",
    "!nvidia-smi"
   ]
  },
  {
   "cell_type": "markdown",
   "metadata": {},
   "source": [
    "## Configuration\n",
    "\n",
    "According to the paper, I follow the setting to CCT7\n",
    "- number of heads = 4\n",
    "- number of transformer layers = 7\n",
    "- latent size = 256\n",
    "- MLP size = 512"
   ]
  },
  {
   "cell_type": "code",
   "execution_count": 2,
   "metadata": {},
   "outputs": [],
   "source": [
    "import tensorflow as tf\n",
    "\n",
    "CFG = {\n",
    "    \"fp16\": False, # Use mixed precision training (True/False)\n",
    "    \"dataset_dir\": \".\\DATASET\\ILLUSTRATION VS MANGA\", \n",
    "    \"extension\": [\".jpg\", \".png\"],\n",
    "    \"image_size\": 224,\n",
    "    \"conv_layer\": [32, 64, 128, 256],\n",
    "    # Use CCT7 configuration\n",
    "    \"num_head\": 4,\n",
    "    \"latent_size\": 256,\n",
    "    \"num_trans\": 7,\n",
    "    \"mlp_size\": 512,\n",
    "    \"pos_embed\": False,\n",
    "    \"batch\": 32, # Batch size\n",
    "    \"optimizer1\": tf.keras.optimizers.Adam(learning_rate=1e-5), # main training\n",
    "    \"optimizer2\": tf.keras.optimizers.Adam(learning_rate=1e-6, decay=1e-4), # fine-tuning\n",
    "    \"loss_func\": tf.losses.CategoricalCrossentropy(), # Loss function (Categorical Cross-Entropy)\n",
    "}"
   ]
  },
  {
   "cell_type": "markdown",
   "metadata": {},
   "source": [
    "## Initializing"
   ]
  },
  {
   "cell_type": "code",
   "execution_count": 3,
   "metadata": {},
   "outputs": [],
   "source": [
    "if CFG[\"fp16\"]:\n",
    "    Initializer.mixed_precision16()\n",
    "\n",
    "Initializer.memory_growth()"
   ]
  },
  {
   "cell_type": "markdown",
   "metadata": {},
   "source": [
    "## Dataset Preparation"
   ]
  },
  {
   "cell_type": "code",
   "execution_count": 4,
   "metadata": {},
   "outputs": [],
   "source": [
    "from module.utility.DirectoryProcessor import DirectoryProcessor\n",
    "from pathlib import Path\n",
    "\n",
    "def data_maker():\n",
    "    # File path processing\n",
    "    data_list = []\n",
    "    label_set = set()\n",
    "    path_list = DirectoryProcessor.get_only_files(CFG[\"dataset_dir\"], CFG[\"extension\"], include_sub_dir=True)\n",
    "\n",
    "    for path in path_list:\n",
    "        path_obj = Path(path)\n",
    "        label = path_obj.parts[-2]\n",
    "        data_list.append((path, label))\n",
    "        label_set.add(label)\n",
    "    \n",
    "    label_list = list(sorted(label_set))\n",
    "\n",
    "    return data_list, label_list\n",
    "\n",
    "data_list, label_list = data_maker()"
   ]
  },
  {
   "cell_type": "code",
   "execution_count": 5,
   "metadata": {},
   "outputs": [
    {
     "name": "stdout",
     "output_type": "stream",
     "text": [
      "Total: 2018 dataset including\n",
      "ILLUSTRATION: 1194\n",
      "MANGA: 824\n",
      "=====\n",
      "Train: 1817 dataset including\n",
      "ILLUSTRATION: 1075\n",
      "MANGA: 742\n",
      "Class weight: {'ILLUSTRATION': 0.8451, 'MANGA': 1.2244}\n",
      "=====\n",
      "Test: 201 dataset including\n",
      "ILLUSTRATION: 119\n",
      "MANGA: 82\n"
     ]
    }
   ],
   "source": [
    "from module.image_classification.ImageDataGenerator import ImageDataGenerator\n",
    "\n",
    "# Calling data generator instance \n",
    "generator = ImageDataGenerator(\n",
    "    input = data_list,\n",
    "    image_size = CFG[\"image_size\"],\n",
    "    keep_aspect_ratio = True,\n",
    "    label_mode = \"onehot\",\n",
    "    horizontal_flip = False,\n",
    "    vertical_flip = False,\n",
    "    translate_range = None,\n",
    "    rotation_range = None,\n",
    "    border_method = \"constant\", # \"constant\" or \"replicate\"\n",
    "    validation_split = 0.1,\n",
    ")\n",
    "\n",
    "# Generate dataset\n",
    "#train, test = generator.generate_dataset_from_generator(batch_size=CFG[\"batch\"], balance=True, train_drop_remainder=True) # for low memory PC\n",
    "train, test = generator.generate_dataset_from_tensor_slices(batch_size=CFG[\"batch\"], balance=False, train_drop_remainder=True) # for high memory PC"
   ]
  },
  {
   "cell_type": "markdown",
   "metadata": {},
   "source": [
    "## Model Creation"
   ]
  },
  {
   "cell_type": "code",
   "execution_count": 6,
   "metadata": {},
   "outputs": [
    {
     "name": "stdout",
     "output_type": "stream",
     "text": [
      "Model: \"CCT_I224x224_Conv32_64_128_256_L7_H4_D256_MLP512_2Class\"\n",
      "__________________________________________________________________________________________________\n",
      "Layer (type)                    Output Shape         Param #     Connected to                     \n",
      "==================================================================================================\n",
      "Input_image (InputLayer)        [(None, 224, 224, 3) 0                                            \n",
      "__________________________________________________________________________________________________\n",
      "ConvToken (ConvToken)           (None, 196, 256)     388416      Input_image[0][0]                \n",
      "__________________________________________________________________________________________________\n",
      "Transformer_Encoder_1 (Transfor (None, 196, 256)     527104      ConvToken[0][0]                  \n",
      "__________________________________________________________________________________________________\n",
      "Transformer_Encoder_2 (Transfor (None, 196, 256)     527104      Transformer_Encoder_1[0][0]      \n",
      "__________________________________________________________________________________________________\n",
      "Transformer_Encoder_3 (Transfor (None, 196, 256)     527104      Transformer_Encoder_2[0][0]      \n",
      "__________________________________________________________________________________________________\n",
      "Transformer_Encoder_4 (Transfor (None, 196, 256)     527104      Transformer_Encoder_3[0][0]      \n",
      "__________________________________________________________________________________________________\n",
      "Transformer_Encoder_5 (Transfor (None, 196, 256)     527104      Transformer_Encoder_4[0][0]      \n",
      "__________________________________________________________________________________________________\n",
      "Transformer_Encoder_6 (Transfor (None, 196, 256)     527104      Transformer_Encoder_5[0][0]      \n",
      "__________________________________________________________________________________________________\n",
      "Transformer_Encoder_7 (Transfor (None, 196, 256)     527104      Transformer_Encoder_6[0][0]      \n",
      "__________________________________________________________________________________________________\n",
      "dense (Dense)                   (None, 196, 1)       257         Transformer_Encoder_7[0][0]      \n",
      "__________________________________________________________________________________________________\n",
      "tf.linalg.matmul (TFOpLambda)   (None, 1, 256)       0           dense[0][0]                      \n",
      "                                                                 Transformer_Encoder_7[0][0]      \n",
      "__________________________________________________________________________________________________\n",
      "flatten (Flatten)               (None, 256)          0           tf.linalg.matmul[0][0]           \n",
      "__________________________________________________________________________________________________\n",
      "dense_1 (Dense)                 (None, 2)            514         flatten[0][0]                    \n",
      "==================================================================================================\n",
      "Total params: 4,078,915\n",
      "Trainable params: 4,078,915\n",
      "Non-trainable params: 0\n",
      "__________________________________________________________________________________________________\n"
     ]
    }
   ],
   "source": [
    "from model.CompactConvolutionalTransformer import CompactConvolutionalTransformer as CCT\n",
    "\n",
    "model = CCT(\n",
    "    image_size         = CFG[\"image_size\"],\n",
    "    conv_layer         = CFG[\"conv_layer\"],\n",
    "    num_class          = len(label_list),\n",
    "    num_head           = CFG[\"num_head\"],\n",
    "    latent_size        = CFG[\"latent_size\"],\n",
    "    num_transformer    = CFG[\"num_trans\"],\n",
    "    mlp_size           = CFG[\"mlp_size\"],\n",
    "    position_embedding = CFG[\"pos_embed\"],\n",
    ")\n",
    "\n",
    "model.summary()"
   ]
  },
  {
   "cell_type": "markdown",
   "metadata": {},
   "source": [
    "## Model training"
   ]
  },
  {
   "cell_type": "markdown",
   "metadata": {},
   "source": [
    "### Main training"
   ]
  },
  {
   "cell_type": "code",
   "execution_count": 7,
   "metadata": {},
   "outputs": [
    {
     "name": "stdout",
     "output_type": "stream",
     "text": [
      "Epoch 1/1000\n",
      "56/56 [==============================] - 69s 284ms/step - loss: 23.8651 - accuracy: 0.6077 - val_loss: 9.8626 - val_accuracy: 0.6418\n",
      "Epoch 2/1000\n",
      "56/56 [==============================] - 14s 253ms/step - loss: 12.3293 - accuracy: 0.6044 - val_loss: 17.7978 - val_accuracy: 0.6119\n",
      "Epoch 3/1000\n",
      "56/56 [==============================] - 14s 253ms/step - loss: 6.9648 - accuracy: 0.6629 - val_loss: 6.9175 - val_accuracy: 0.6219\n",
      "Epoch 4/1000\n",
      "56/56 [==============================] - 14s 253ms/step - loss: 5.6048 - accuracy: 0.6853 - val_loss: 3.8858 - val_accuracy: 0.7065\n",
      "Epoch 5/1000\n",
      "56/56 [==============================] - 14s 253ms/step - loss: 4.5950 - accuracy: 0.6864 - val_loss: 2.1954 - val_accuracy: 0.8209\n",
      "Epoch 6/1000\n",
      "56/56 [==============================] - 14s 256ms/step - loss: 4.0563 - accuracy: 0.7031 - val_loss: 6.2072 - val_accuracy: 0.6667\n",
      "Epoch 7/1000\n",
      "56/56 [==============================] - 14s 255ms/step - loss: 4.8218 - accuracy: 0.6998 - val_loss: 7.8032 - val_accuracy: 0.6418\n",
      "Epoch 8/1000\n",
      "56/56 [==============================] - 14s 255ms/step - loss: 5.3422 - accuracy: 0.6830 - val_loss: 1.9548 - val_accuracy: 0.7910\n",
      "Epoch 9/1000\n",
      "56/56 [==============================] - 14s 254ms/step - loss: 7.6936 - accuracy: 0.6747 - val_loss: 1.7217 - val_accuracy: 0.8308\n",
      "Epoch 10/1000\n",
      "56/56 [==============================] - 14s 256ms/step - loss: 4.2123 - accuracy: 0.7137 - val_loss: 1.8756 - val_accuracy: 0.7711\n",
      "Epoch 11/1000\n",
      "56/56 [==============================] - 14s 255ms/step - loss: 2.9315 - accuracy: 0.7461 - val_loss: 3.3597 - val_accuracy: 0.7562\n",
      "Epoch 12/1000\n",
      "56/56 [==============================] - 14s 253ms/step - loss: 4.0901 - accuracy: 0.7215 - val_loss: 3.3636 - val_accuracy: 0.7512\n",
      "Epoch 13/1000\n",
      "56/56 [==============================] - 14s 251ms/step - loss: 2.5757 - accuracy: 0.7640 - val_loss: 1.8190 - val_accuracy: 0.8109\n",
      "Epoch 14/1000\n",
      "56/56 [==============================] - 14s 256ms/step - loss: 2.5368 - accuracy: 0.7640 - val_loss: 1.5838 - val_accuracy: 0.7960\n",
      "Epoch 15/1000\n",
      "56/56 [==============================] - 14s 254ms/step - loss: 4.0854 - accuracy: 0.7093 - val_loss: 3.3300 - val_accuracy: 0.7562\n",
      "Epoch 16/1000\n",
      "56/56 [==============================] - 14s 254ms/step - loss: 2.7562 - accuracy: 0.7645 - val_loss: 3.3851 - val_accuracy: 0.6816\n",
      "Epoch 17/1000\n",
      "56/56 [==============================] - 14s 255ms/step - loss: 2.7265 - accuracy: 0.7645 - val_loss: 5.0828 - val_accuracy: 0.5871\n",
      "Epoch 18/1000\n",
      "56/56 [==============================] - 14s 252ms/step - loss: 3.6509 - accuracy: 0.7193 - val_loss: 5.8995 - val_accuracy: 0.6219\n",
      "Epoch 19/1000\n",
      "56/56 [==============================] - 14s 255ms/step - loss: 5.4940 - accuracy: 0.7042 - val_loss: 4.6691 - val_accuracy: 0.6468\n",
      "Restoring model weights from the end of the best epoch.\n",
      "Epoch 00019: early stopping\n"
     ]
    }
   ],
   "source": [
    "# Create an Early Stopping callback that monitors validation loss and stops training if it doesn't improve significantly\n",
    "EarlyStop = tf.keras.callbacks.EarlyStopping(\n",
    "    monitor = 'val_loss', \n",
    "    min_delta = 0.01, \n",
    "    patience = 5, \n",
    "    restore_best_weights = True, \n",
    "    verbose = 1,\n",
    ")\n",
    "\n",
    "# Compile the model with the specified optimizer and loss function\n",
    "model.compile(optimizer=CFG[\"optimizer1\"], loss=CFG[\"loss_func\"], metrics=[\"accuracy\"])\n",
    "\n",
    "# Train the model on the training dataset with early stopping and a maximum of 100 epochs\n",
    "model.train(train, test, epochs=1000, callbacks=[EarlyStop])"
   ]
  },
  {
   "cell_type": "markdown",
   "metadata": {},
   "source": [
    "### Fine-tuning"
   ]
  },
  {
   "cell_type": "code",
   "execution_count": 8,
   "metadata": {},
   "outputs": [
    {
     "name": "stdout",
     "output_type": "stream",
     "text": [
      "Continuing training from epoch 19\n",
      "Epoch 20/1000\n",
      "56/56 [==============================] - 22s 278ms/step - loss: 2.1295 - accuracy: 0.7740 - val_loss: 1.3850 - val_accuracy: 0.7960\n",
      "Epoch 21/1000\n",
      "56/56 [==============================] - 14s 254ms/step - loss: 1.4961 - accuracy: 0.7969 - val_loss: 1.2556 - val_accuracy: 0.8358\n",
      "Epoch 22/1000\n",
      "56/56 [==============================] - 14s 253ms/step - loss: 1.4830 - accuracy: 0.8047 - val_loss: 1.1688 - val_accuracy: 0.8458\n",
      "Epoch 23/1000\n",
      "56/56 [==============================] - 14s 255ms/step - loss: 1.5204 - accuracy: 0.7963 - val_loss: 1.2542 - val_accuracy: 0.8308\n",
      "Epoch 24/1000\n",
      "56/56 [==============================] - 14s 255ms/step - loss: 1.6445 - accuracy: 0.7852 - val_loss: 1.2190 - val_accuracy: 0.8308\n",
      "Epoch 25/1000\n",
      "56/56 [==============================] - 14s 252ms/step - loss: 1.3681 - accuracy: 0.7997 - val_loss: 1.1843 - val_accuracy: 0.8109\n",
      "Epoch 26/1000\n",
      "56/56 [==============================] - 14s 253ms/step - loss: 1.4389 - accuracy: 0.7958 - val_loss: 1.2245 - val_accuracy: 0.8209\n",
      "Epoch 27/1000\n",
      "56/56 [==============================] - 14s 253ms/step - loss: 1.6620 - accuracy: 0.7796 - val_loss: 1.3044 - val_accuracy: 0.8259\n",
      "Restoring model weights from the end of the best epoch.\n",
      "Epoch 00027: early stopping\n"
     ]
    }
   ],
   "source": [
    "# Create an Early Stopping callback that monitors validation loss and stops training if it doesn't improve significantly\n",
    "EarlyStop = tf.keras.callbacks.EarlyStopping(\n",
    "    monitor = 'val_loss', \n",
    "    min_delta = 0.01, \n",
    "    patience = 5, \n",
    "    restore_best_weights = True, \n",
    "    verbose = 1,\n",
    ")\n",
    "\n",
    "# Compile the model with the specified optimizer and loss function\n",
    "model.compile(optimizer=CFG[\"optimizer2\"], loss=CFG[\"loss_func\"], metrics=[\"accuracy\"])\n",
    "\n",
    "# Train the model on the training dataset with early stopping and a maximum of 100 epochs\n",
    "model.train(train, test, epochs=1000, callbacks=[EarlyStop])"
   ]
  },
  {
   "cell_type": "markdown",
   "metadata": {},
   "source": [
    "## Export model"
   ]
  },
  {
   "cell_type": "code",
   "execution_count": 9,
   "metadata": {},
   "outputs": [],
   "source": [
    "model.save()"
   ]
  },
  {
   "cell_type": "markdown",
   "metadata": {},
   "source": [
    "## Evaluation"
   ]
  },
  {
   "cell_type": "markdown",
   "metadata": {},
   "source": [
    "### History graph"
   ]
  },
  {
   "cell_type": "code",
   "execution_count": 10,
   "metadata": {},
   "outputs": [
    {
     "data": {
      "image/png": "[encoded data removed]",
      "text/plain": [
       "<Figure size 1440x432 with 2 Axes>"
      ]
     },
     "metadata": {
      "needs_background": "light"
     },
     "output_type": "display_data"
    }
   ],
   "source": [
    "import matplotlib.pyplot as plt\n",
    "\n",
    "def plot_training_history(history):\n",
    "    plt.figure(figsize=(20, 6))\n",
    "    \n",
    "    # Summarize history for accuracy\n",
    "    plt.subplot(1, 2, 1)\n",
    "    plt.plot(history.history['accuracy'])\n",
    "    if 'val_accuracy' in history.history:\n",
    "        plt.plot(history.history['val_accuracy'])\n",
    "    plt.title('Model accuracy')\n",
    "    plt.ylabel('Accuracy')\n",
    "    plt.xlabel('Epochs')\n",
    "    plt.legend(['Train', 'Validation'], loc='lower right')\n",
    "\n",
    "    # Summarize history for loss\n",
    "    plt.subplot(1, 2, 2)\n",
    "    plt.plot(history.history['loss'])\n",
    "    if 'val_loss' in history.history:\n",
    "        plt.plot(history.history['val_loss'])\n",
    "    plt.title('Model loss')\n",
    "    plt.ylabel('Loss')\n",
    "    plt.xlabel('Epochs')\n",
    "    plt.legend(['Train', 'Validation'], loc='upper right')\n",
    "    \n",
    "    plt.show()\n",
    "\n",
    "plot_training_history(model.history)"
   ]
  },
  {
   "cell_type": "markdown",
   "metadata": {},
   "source": [
    "### Confusion matrix"
   ]
  },
  {
   "cell_type": "code",
   "execution_count": 11,
   "metadata": {},
   "outputs": [
    {
     "name": "stdout",
     "output_type": "stream",
     "text": [
      "Loading model ...\n",
      "ValueError: Custom Keras layers detected.\n",
      "Loading model with custom objects ...COMPLETE\n",
      "Processing class prediction ...\n",
      "159/159 [====================] - 44s 268ms/batch\n",
      "Generating confusion matrix ... Complete\n",
      "Generating text based classification report ... Complete\n",
      "Complete\n",
      "Classification Report\n",
      "              precision    recall  f1-score   support\n",
      "\n",
      "ILLUSTRATION       0.95      0.80      0.87      4368\n",
      "       MANGA       0.38      0.75      0.50       694\n",
      "\n",
      "    accuracy                           0.80      5062\n",
      "   macro avg       0.66      0.77      0.69      5062\n",
      "weighted avg       0.87      0.80      0.82      5062\n",
      "\n"
     ]
    },
    {
     "data": {
      "image/png": "[encoded data removed]",
      "text/plain": [
       "<Figure size 576x432 with 2 Axes>"
      ]
     },
     "metadata": {
      "needs_background": "light"
     },
     "output_type": "display_data"
    }
   ],
   "source": [
    "%reset -f\n",
    "\n",
    "from module.utility.DirectoryProcessor import DirectoryProcessor\n",
    "from module.evaluate.ConfusionMatrix import ConfusionMatrix\n",
    "from pathlib import Path\n",
    "\n",
    "CFG = {\n",
    "    \"dataset_dir\": \"D:\\Github Public\\DATASET MANAGER\\Blue Archive\",\n",
    "    \"extenstions\": [\".jpg\", \".png\"],\n",
    "    \"model1\": {\"h5\":\".\\export model\\CCT_I224x224_Conv32_64_128_256_L7_H4_D256_MLP512_2Class.h5\",\n",
    "               \"name\":\"CCT7\"},\n",
    "}\n",
    "\n",
    "def data_maker():\n",
    "    # File path processing\n",
    "    data_list = []\n",
    "    label_set = set()\n",
    "    path_list = DirectoryProcessor.get_only_files(CFG[\"dataset_dir\"], CFG[\"extenstions\"], include_sub_dir=True)\n",
    "\n",
    "    for path in path_list:\n",
    "        path_obj = Path(path)\n",
    "        label = path_obj.parts[4]\n",
    "        data_list.append((path, label))\n",
    "        label_set.add(label)\n",
    "    \n",
    "    label_list = list(sorted(label_set))\n",
    "\n",
    "    return data_list, label_list\n",
    "\n",
    "data_list, label_list = data_maker()\n",
    "\n",
    "report = ConfusionMatrix(\n",
    "    h5_file=CFG[\"model1\"][\"h5\"],\n",
    "    model_name=CFG[\"model1\"][\"name\"],\n",
    "    data_list=data_list,\n",
    "    label_list=label_list,\n",
    "    force_batch=32,\n",
    ")\n",
    "report.print_report()"
   ]
  },
  {
   "cell_type": "markdown",
   "metadata": {},
   "source": [
    "In terms of performance, `CCT` has significantly fewer parameters than `CNN` based models, yet it performs classification well, even when using a simple CNN structure of `Conv2D -> Maxpooling -> Conv2D -> Maxpooling -> ...`"
   ]
  }
 ],
 "metadata": {
  "kernelspec": {
   "display_name": "tf2",
   "language": "python",
   "name": "python3"
  },
  "language_info": {
   "codemirror_mode": {
    "name": "ipython",
    "version": 3
   },
   "file_extension": ".py",
   "mimetype": "text/x-python",
   "name": "python",
   "nbconvert_exporter": "python",
   "pygments_lexer": "ipython3",
   "version": "3.8.12"
  },
  "orig_nbformat": 4
 },
 "nbformat": 4,
 "nbformat_minor": 2
}
